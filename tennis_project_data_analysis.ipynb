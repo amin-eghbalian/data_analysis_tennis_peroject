{
 "cells": [
  {
   "cell_type": "markdown",
   "metadata": {},
   "source": [
    "# **Tennis Matches Data Analysis Project**"
   ]
  },
  {
   "cell_type": "markdown",
   "metadata": {},
   "source": [
    "# Import Dependencies"
   ]
  },
  {
   "cell_type": "code",
   "execution_count": 3,
   "metadata": {},
   "outputs": [],
   "source": [
    "from pathlib import Path\n",
    "import numpy as np\n",
    "import pandas as pd\n",
    "import seaborn as sns\n",
    "import matplotlib.pyplot as plt\n",
    "from matplotlib.ticker import MaxNLocator"
   ]
  },
  {
   "cell_type": "markdown",
   "metadata": {},
   "source": [
    "# EDA"
   ]
  },
  {
   "cell_type": "markdown",
   "metadata": {},
   "source": [
    "The data set has fifteen data frames, including: \n",
    "* Dataset Tables:\n",
    "    * event_df\n",
    "        * shape : 764 rows, 10 columns\n",
    "    * vote_df\n",
    "        * shape : 764 rows, 3 columns\n",
    "    * tournament_df\n",
    "        * shape : 764 rows, 16 columns\n",
    "    * season_df\n",
    "        * shape : 764 rows, 4 columns\n",
    "    * round_df\n",
    "        * shape : 177 rows, 5 columns\n",
    "    * venue_df\n",
    "        * shape : 763 rows, 5 columns\n",
    "    * home_team_df\n",
    "        * shape : 436 rows, 18 columns\n",
    "    * home_score_df\n",
    "        * shape : 764 rows, 14 columns\n",
    "    * away_team_df\n",
    "        * shape : 385 rows, 18 columns\n",
    "    * away_score_df\n",
    "        * shape : 764 rows, 14 columns\n",
    "    * time_df\n",
    "        * shape : 764 rows, 6 columns\n",
    "    * odds_df\n",
    "        * shape : 847 rows, 11 columns\n",
    "    * power_df\n",
    "        * shape : 3475 rows, 5 columns\n",
    "    * point_by_point_df\n",
    "        * shape : 22879 rows, 13 columns\n",
    "   * point_by_point_df\n",
    "        * shape : 12262 rows, 13 columns\n",
    "* Other EDAs comes after importing each tables.\n",
    "* Data cleaning comes where ever needed, based on analysis."
   ]
  },
  {
   "cell_type": "markdown",
   "metadata": {},
   "source": [
    "# Dataset Loading"
   ]
  },
  {
   "cell_type": "markdown",
   "metadata": {},
   "source": [
    "### Event Data Frame"
   ]
  },
  {
   "cell_type": "code",
   "execution_count": 4,
   "metadata": {},
   "outputs": [
    {
     "data": {
      "text/html": [
       "<div>\n",
       "<style scoped>\n",
       "    .dataframe tbody tr th:only-of-type {\n",
       "        vertical-align: middle;\n",
       "    }\n",
       "\n",
       "    .dataframe tbody tr th {\n",
       "        vertical-align: top;\n",
       "    }\n",
       "\n",
       "    .dataframe thead th {\n",
       "        text-align: right;\n",
       "    }\n",
       "</style>\n",
       "<table border=\"1\" class=\"dataframe\">\n",
       "  <thead>\n",
       "    <tr style=\"text-align: right;\">\n",
       "      <th></th>\n",
       "      <th>match_id</th>\n",
       "      <th>first_to_serve</th>\n",
       "      <th>home_team_seed</th>\n",
       "      <th>away_team_seed</th>\n",
       "      <th>custom_id</th>\n",
       "      <th>winner_code</th>\n",
       "      <th>default_period_count</th>\n",
       "      <th>start_datetime</th>\n",
       "      <th>match_slug</th>\n",
       "      <th>final_result_only</th>\n",
       "    </tr>\n",
       "  </thead>\n",
       "  <tbody>\n",
       "    <tr>\n",
       "      <th>0</th>\n",
       "      <td>11673958</td>\n",
       "      <td>None</td>\n",
       "      <td>1</td>\n",
       "      <td>4</td>\n",
       "      <td>JgdbspFNb</td>\n",
       "      <td>2</td>\n",
       "      <td>3</td>\n",
       "      <td>1696094700</td>\n",
       "      <td>tirante-barrios-vera</td>\n",
       "      <td>False</td>\n",
       "    </tr>\n",
       "    <tr>\n",
       "      <th>1</th>\n",
       "      <td>11673962</td>\n",
       "      <td>None</td>\n",
       "      <td>4</td>\n",
       "      <td>None</td>\n",
       "      <td>pFNbsHbwc</td>\n",
       "      <td>1</td>\n",
       "      <td>3</td>\n",
       "      <td>1696176000</td>\n",
       "      <td>heide-tirante</td>\n",
       "      <td>False</td>\n",
       "    </tr>\n",
       "    <tr>\n",
       "      <th>2</th>\n",
       "      <td>11673963</td>\n",
       "      <td>None</td>\n",
       "      <td>None</td>\n",
       "      <td>None</td>\n",
       "      <td>fTxsHbwc</td>\n",
       "      <td>1</td>\n",
       "      <td>3</td>\n",
       "      <td>1696087800</td>\n",
       "      <td>heide-jorda-sanchis</td>\n",
       "      <td>False</td>\n",
       "    </tr>\n",
       "  </tbody>\n",
       "</table>\n",
       "</div>"
      ],
      "text/plain": [
       "   match_id first_to_serve home_team_seed away_team_seed  custom_id  \\\n",
       "0  11673958           None              1              4  JgdbspFNb   \n",
       "1  11673962           None              4           None  pFNbsHbwc   \n",
       "2  11673963           None           None           None   fTxsHbwc   \n",
       "\n",
       "  winner_code  default_period_count  start_datetime            match_slug  \\\n",
       "0           2                     3      1696094700  tirante-barrios-vera   \n",
       "1           1                     3      1696176000         heide-tirante   \n",
       "2           1                     3      1696087800   heide-jorda-sanchis   \n",
       "\n",
       "   final_result_only  \n",
       "0              False  \n",
       "1              False  \n",
       "2              False  "
      ]
     },
     "execution_count": 4,
     "metadata": {},
     "output_type": "execute_result"
    }
   ],
   "source": [
    "data_dir = Path(\"tennis_data_20231212/raw_match_parquet/event\")\n",
    "event_df = pd.concat(\n",
    "    (pd.read_parquet(parquet_file) for parquet_file in data_dir.glob('*.parquet')), ignore_index=True\n",
    "    )\n",
    "event_df.head(3)"
   ]
  },
  {
   "cell_type": "code",
   "execution_count": 5,
   "metadata": {},
   "outputs": [
    {
     "name": "stdout",
     "output_type": "stream",
     "text": [
      "<class 'pandas.core.frame.DataFrame'>\n",
      "RangeIndex: 764 entries, 0 to 763\n",
      "Data columns (total 10 columns):\n",
      " #   Column                Non-Null Count  Dtype \n",
      "---  ------                --------------  ----- \n",
      " 0   match_id              764 non-null    int64 \n",
      " 1   first_to_serve        209 non-null    object\n",
      " 2   home_team_seed        393 non-null    object\n",
      " 3   away_team_seed        392 non-null    object\n",
      " 4   custom_id             764 non-null    object\n",
      " 5   winner_code           757 non-null    object\n",
      " 6   default_period_count  764 non-null    int64 \n",
      " 7   start_datetime        764 non-null    int64 \n",
      " 8   match_slug            764 non-null    object\n",
      " 9   final_result_only     764 non-null    bool  \n",
      "dtypes: bool(1), int64(3), object(6)\n",
      "memory usage: 54.6+ KB\n"
     ]
    }
   ],
   "source": [
    "event_df.info()"
   ]
  },
  {
   "cell_type": "markdown",
   "metadata": {},
   "source": [
    "### Vote Data Frame"
   ]
  },
  {
   "cell_type": "code",
   "execution_count": 6,
   "metadata": {},
   "outputs": [
    {
     "data": {
      "text/html": [
       "<div>\n",
       "<style scoped>\n",
       "    .dataframe tbody tr th:only-of-type {\n",
       "        vertical-align: middle;\n",
       "    }\n",
       "\n",
       "    .dataframe tbody tr th {\n",
       "        vertical-align: top;\n",
       "    }\n",
       "\n",
       "    .dataframe thead th {\n",
       "        text-align: right;\n",
       "    }\n",
       "</style>\n",
       "<table border=\"1\" class=\"dataframe\">\n",
       "  <thead>\n",
       "    <tr style=\"text-align: right;\">\n",
       "      <th></th>\n",
       "      <th>match_id</th>\n",
       "      <th>home_vote</th>\n",
       "      <th>away_vote</th>\n",
       "    </tr>\n",
       "  </thead>\n",
       "  <tbody>\n",
       "    <tr>\n",
       "      <th>0</th>\n",
       "      <td>11673958</td>\n",
       "      <td>554</td>\n",
       "      <td>233</td>\n",
       "    </tr>\n",
       "    <tr>\n",
       "      <th>1</th>\n",
       "      <td>11673962</td>\n",
       "      <td>909</td>\n",
       "      <td>213</td>\n",
       "    </tr>\n",
       "    <tr>\n",
       "      <th>2</th>\n",
       "      <td>11673963</td>\n",
       "      <td>399</td>\n",
       "      <td>213</td>\n",
       "    </tr>\n",
       "  </tbody>\n",
       "</table>\n",
       "</div>"
      ],
      "text/plain": [
       "   match_id  home_vote  away_vote\n",
       "0  11673958        554        233\n",
       "1  11673962        909        213\n",
       "2  11673963        399        213"
      ]
     },
     "execution_count": 6,
     "metadata": {},
     "output_type": "execute_result"
    }
   ],
   "source": [
    "data_dir = Path(\"tennis_data_20231212/raw_votes_parquet\")\n",
    "vote_df = pd.concat(\n",
    "    (pd.read_parquet(parquet_file) for parquet_file in data_dir.glob('*.parquet')), ignore_index=True\n",
    ")\n",
    "vote_df.head(3)"
   ]
  },
  {
   "cell_type": "code",
   "execution_count": 7,
   "metadata": {},
   "outputs": [
    {
     "name": "stdout",
     "output_type": "stream",
     "text": [
      "<class 'pandas.core.frame.DataFrame'>\n",
      "RangeIndex: 764 entries, 0 to 763\n",
      "Data columns (total 3 columns):\n",
      " #   Column     Non-Null Count  Dtype\n",
      "---  ------     --------------  -----\n",
      " 0   match_id   764 non-null    int64\n",
      " 1   home_vote  764 non-null    int64\n",
      " 2   away_vote  764 non-null    int64\n",
      "dtypes: int64(3)\n",
      "memory usage: 18.0 KB\n"
     ]
    }
   ],
   "source": [
    "vote_df.info()"
   ]
  },
  {
   "cell_type": "markdown",
   "metadata": {},
   "source": [
    "### Tournament Data Frame"
   ]
  },
  {
   "cell_type": "code",
   "execution_count": 8,
   "metadata": {},
   "outputs": [
    {
     "data": {
      "text/html": [
       "<div>\n",
       "<style scoped>\n",
       "    .dataframe tbody tr th:only-of-type {\n",
       "        vertical-align: middle;\n",
       "    }\n",
       "\n",
       "    .dataframe tbody tr th {\n",
       "        vertical-align: top;\n",
       "    }\n",
       "\n",
       "    .dataframe thead th {\n",
       "        text-align: right;\n",
       "    }\n",
       "</style>\n",
       "<table border=\"1\" class=\"dataframe\">\n",
       "  <thead>\n",
       "    <tr style=\"text-align: right;\">\n",
       "      <th></th>\n",
       "      <th>match_id</th>\n",
       "      <th>tournament_id</th>\n",
       "      <th>tournament_name</th>\n",
       "      <th>tournament_slug</th>\n",
       "      <th>tournament_unique_id</th>\n",
       "      <th>tournament_category_name</th>\n",
       "      <th>tournament_category_slug</th>\n",
       "      <th>user_count</th>\n",
       "      <th>ground_type</th>\n",
       "      <th>tennis_points</th>\n",
       "      <th>has_event_player_statistics</th>\n",
       "      <th>crowd_sourcing_enabled</th>\n",
       "      <th>has_performance_graph_feature</th>\n",
       "      <th>display_inverse_home_away_teams</th>\n",
       "      <th>priority</th>\n",
       "      <th>competition_type</th>\n",
       "    </tr>\n",
       "  </thead>\n",
       "  <tbody>\n",
       "    <tr>\n",
       "      <th>0</th>\n",
       "      <td>11673958</td>\n",
       "      <td>121441</td>\n",
       "      <td>Bogota, Colombia</td>\n",
       "      <td>bogota-colombia</td>\n",
       "      <td>None</td>\n",
       "      <td>Challenger</td>\n",
       "      <td>challenger</td>\n",
       "      <td>125</td>\n",
       "      <td>Red clay</td>\n",
       "      <td>125</td>\n",
       "      <td>False</td>\n",
       "      <td>False</td>\n",
       "      <td>False</td>\n",
       "      <td>False</td>\n",
       "      <td>0</td>\n",
       "      <td>2</td>\n",
       "    </tr>\n",
       "    <tr>\n",
       "      <th>1</th>\n",
       "      <td>11673962</td>\n",
       "      <td>121441</td>\n",
       "      <td>Bogota, Colombia</td>\n",
       "      <td>bogota-colombia</td>\n",
       "      <td>None</td>\n",
       "      <td>Challenger</td>\n",
       "      <td>challenger</td>\n",
       "      <td>125</td>\n",
       "      <td>Red clay</td>\n",
       "      <td>125</td>\n",
       "      <td>False</td>\n",
       "      <td>False</td>\n",
       "      <td>False</td>\n",
       "      <td>False</td>\n",
       "      <td>0</td>\n",
       "      <td>2</td>\n",
       "    </tr>\n",
       "    <tr>\n",
       "      <th>2</th>\n",
       "      <td>11673963</td>\n",
       "      <td>121441</td>\n",
       "      <td>Bogota, Colombia</td>\n",
       "      <td>bogota-colombia</td>\n",
       "      <td>None</td>\n",
       "      <td>Challenger</td>\n",
       "      <td>challenger</td>\n",
       "      <td>125</td>\n",
       "      <td>Red clay</td>\n",
       "      <td>125</td>\n",
       "      <td>False</td>\n",
       "      <td>False</td>\n",
       "      <td>False</td>\n",
       "      <td>False</td>\n",
       "      <td>0</td>\n",
       "      <td>2</td>\n",
       "    </tr>\n",
       "  </tbody>\n",
       "</table>\n",
       "</div>"
      ],
      "text/plain": [
       "   match_id  tournament_id   tournament_name  tournament_slug  \\\n",
       "0  11673958         121441  Bogota, Colombia  bogota-colombia   \n",
       "1  11673962         121441  Bogota, Colombia  bogota-colombia   \n",
       "2  11673963         121441  Bogota, Colombia  bogota-colombia   \n",
       "\n",
       "  tournament_unique_id tournament_category_name tournament_category_slug  \\\n",
       "0                 None               Challenger               challenger   \n",
       "1                 None               Challenger               challenger   \n",
       "2                 None               Challenger               challenger   \n",
       "\n",
       "   user_count ground_type tennis_points  has_event_player_statistics  \\\n",
       "0         125    Red clay           125                        False   \n",
       "1         125    Red clay           125                        False   \n",
       "2         125    Red clay           125                        False   \n",
       "\n",
       "   crowd_sourcing_enabled  has_performance_graph_feature  \\\n",
       "0                   False                          False   \n",
       "1                   False                          False   \n",
       "2                   False                          False   \n",
       "\n",
       "   display_inverse_home_away_teams  priority  competition_type  \n",
       "0                            False         0                 2  \n",
       "1                            False         0                 2  \n",
       "2                            False         0                 2  "
      ]
     },
     "execution_count": 8,
     "metadata": {},
     "output_type": "execute_result"
    }
   ],
   "source": [
    "data_dir = Path(\"tennis_data_20231212/raw_match_parquet/tournament\")\n",
    "tournament_df = pd.concat(\n",
    "    (pd.read_parquet(parquet_file) for parquet_file in data_dir.glob('*.parquet')), ignore_index=True\n",
    ")\n",
    "tournament_df.head(3)"
   ]
  },
  {
   "cell_type": "code",
   "execution_count": 29,
   "metadata": {},
   "outputs": [
    {
     "name": "stdout",
     "output_type": "stream",
     "text": [
      "<class 'pandas.core.frame.DataFrame'>\n",
      "RangeIndex: 764 entries, 0 to 763\n",
      "Data columns (total 16 columns):\n",
      " #   Column                           Non-Null Count  Dtype \n",
      "---  ------                           --------------  ----- \n",
      " 0   match_id                         764 non-null    int64 \n",
      " 1   tournament_id                    764 non-null    int64 \n",
      " 2   tournament_name                  764 non-null    object\n",
      " 3   tournament_slug                  764 non-null    object\n",
      " 4   tournament_unique_id             0 non-null      object\n",
      " 5   tournament_category_name         764 non-null    object\n",
      " 6   tournament_category_slug         764 non-null    object\n",
      " 7   user_count                       764 non-null    int64 \n",
      " 8   ground_type                      747 non-null    object\n",
      " 9   tennis_points                    164 non-null    object\n",
      " 10  has_event_player_statistics      764 non-null    bool  \n",
      " 11  crowd_sourcing_enabled           764 non-null    bool  \n",
      " 12  has_performance_graph_feature    764 non-null    bool  \n",
      " 13  display_inverse_home_away_teams  764 non-null    bool  \n",
      " 14  priority                         764 non-null    int64 \n",
      " 15  competition_type                 764 non-null    int64 \n",
      "dtypes: bool(4), int64(5), object(7)\n",
      "memory usage: 74.7+ KB\n"
     ]
    }
   ],
   "source": [
    "tournament_df.info()"
   ]
  },
  {
   "cell_type": "markdown",
   "metadata": {},
   "source": [
    "### Season Data Frame"
   ]
  },
  {
   "cell_type": "code",
   "execution_count": 9,
   "metadata": {},
   "outputs": [
    {
     "data": {
      "text/html": [
       "<div>\n",
       "<style scoped>\n",
       "    .dataframe tbody tr th:only-of-type {\n",
       "        vertical-align: middle;\n",
       "    }\n",
       "\n",
       "    .dataframe tbody tr th {\n",
       "        vertical-align: top;\n",
       "    }\n",
       "\n",
       "    .dataframe thead th {\n",
       "        text-align: right;\n",
       "    }\n",
       "</style>\n",
       "<table border=\"1\" class=\"dataframe\">\n",
       "  <thead>\n",
       "    <tr style=\"text-align: right;\">\n",
       "      <th></th>\n",
       "      <th>match_id</th>\n",
       "      <th>season_id</th>\n",
       "      <th>name</th>\n",
       "      <th>year</th>\n",
       "    </tr>\n",
       "  </thead>\n",
       "  <tbody>\n",
       "    <tr>\n",
       "      <th>0</th>\n",
       "      <td>11673958</td>\n",
       "      <td>52736</td>\n",
       "      <td>ATP Challenger Bogota, Colombia Men Singles 2023</td>\n",
       "      <td>2023</td>\n",
       "    </tr>\n",
       "    <tr>\n",
       "      <th>1</th>\n",
       "      <td>11673962</td>\n",
       "      <td>52736</td>\n",
       "      <td>ATP Challenger Bogota, Colombia Men Singles 2023</td>\n",
       "      <td>2023</td>\n",
       "    </tr>\n",
       "    <tr>\n",
       "      <th>2</th>\n",
       "      <td>11673963</td>\n",
       "      <td>52736</td>\n",
       "      <td>ATP Challenger Bogota, Colombia Men Singles 2023</td>\n",
       "      <td>2023</td>\n",
       "    </tr>\n",
       "  </tbody>\n",
       "</table>\n",
       "</div>"
      ],
      "text/plain": [
       "   match_id  season_id                                              name  year\n",
       "0  11673958      52736  ATP Challenger Bogota, Colombia Men Singles 2023  2023\n",
       "1  11673962      52736  ATP Challenger Bogota, Colombia Men Singles 2023  2023\n",
       "2  11673963      52736  ATP Challenger Bogota, Colombia Men Singles 2023  2023"
      ]
     },
     "execution_count": 9,
     "metadata": {},
     "output_type": "execute_result"
    }
   ],
   "source": [
    "data_dir = Path(\"tennis_data_20231212/raw_match_parquet/season\")\n",
    "season_df = pd.concat(\n",
    "    (pd.read_parquet(parquet_file) for parquet_file in data_dir.glob('*.parquet')), ignore_index=True\n",
    ")\n",
    "season_df.head(3)"
   ]
  },
  {
   "cell_type": "code",
   "execution_count": 31,
   "metadata": {},
   "outputs": [
    {
     "name": "stdout",
     "output_type": "stream",
     "text": [
      "<class 'pandas.core.frame.DataFrame'>\n",
      "RangeIndex: 764 entries, 0 to 763\n",
      "Data columns (total 4 columns):\n",
      " #   Column     Non-Null Count  Dtype \n",
      "---  ------     --------------  ----- \n",
      " 0   match_id   764 non-null    int64 \n",
      " 1   season_id  764 non-null    int64 \n",
      " 2   name       764 non-null    object\n",
      " 3   year       764 non-null    int64 \n",
      "dtypes: int64(3), object(1)\n",
      "memory usage: 24.0+ KB\n"
     ]
    }
   ],
   "source": [
    "season_df.info()"
   ]
  },
  {
   "cell_type": "markdown",
   "metadata": {},
   "source": [
    "### Round Data Frame"
   ]
  },
  {
   "cell_type": "code",
   "execution_count": 10,
   "metadata": {},
   "outputs": [
    {
     "data": {
      "text/html": [
       "<div>\n",
       "<style scoped>\n",
       "    .dataframe tbody tr th:only-of-type {\n",
       "        vertical-align: middle;\n",
       "    }\n",
       "\n",
       "    .dataframe tbody tr th {\n",
       "        vertical-align: top;\n",
       "    }\n",
       "\n",
       "    .dataframe thead th {\n",
       "        text-align: right;\n",
       "    }\n",
       "</style>\n",
       "<table border=\"1\" class=\"dataframe\">\n",
       "  <thead>\n",
       "    <tr style=\"text-align: right;\">\n",
       "      <th></th>\n",
       "      <th>match_id</th>\n",
       "      <th>round_id</th>\n",
       "      <th>name</th>\n",
       "      <th>slug</th>\n",
       "      <th>cup_round_type</th>\n",
       "    </tr>\n",
       "  </thead>\n",
       "  <tbody>\n",
       "    <tr>\n",
       "      <th>0</th>\n",
       "      <td>11673958</td>\n",
       "      <td>28</td>\n",
       "      <td>Semifinal</td>\n",
       "      <td>semifinal</td>\n",
       "      <td>2</td>\n",
       "    </tr>\n",
       "    <tr>\n",
       "      <th>1</th>\n",
       "      <td>11673962</td>\n",
       "      <td>29</td>\n",
       "      <td>Final</td>\n",
       "      <td>final</td>\n",
       "      <td>1</td>\n",
       "    </tr>\n",
       "    <tr>\n",
       "      <th>2</th>\n",
       "      <td>11673963</td>\n",
       "      <td>28</td>\n",
       "      <td>Semifinal</td>\n",
       "      <td>semifinal</td>\n",
       "      <td>2</td>\n",
       "    </tr>\n",
       "  </tbody>\n",
       "</table>\n",
       "</div>"
      ],
      "text/plain": [
       "   match_id  round_id       name       slug cup_round_type\n",
       "0  11673958        28  Semifinal  semifinal              2\n",
       "1  11673962        29      Final      final              1\n",
       "2  11673963        28  Semifinal  semifinal              2"
      ]
     },
     "execution_count": 10,
     "metadata": {},
     "output_type": "execute_result"
    }
   ],
   "source": [
    "data_dir = Path(\"tennis_data_20231212/raw_match_parquet/round\")\n",
    "round_df = pd.concat(\n",
    "    (pd.read_parquet(parquet_file) for parquet_file in data_dir.glob('*.parquet')), ignore_index=True\n",
    ")\n",
    "round_df.head(3)"
   ]
  },
  {
   "cell_type": "code",
   "execution_count": 33,
   "metadata": {},
   "outputs": [
    {
     "name": "stdout",
     "output_type": "stream",
     "text": [
      "<class 'pandas.core.frame.DataFrame'>\n",
      "RangeIndex: 177 entries, 0 to 176\n",
      "Data columns (total 5 columns):\n",
      " #   Column          Non-Null Count  Dtype \n",
      "---  ------          --------------  ----- \n",
      " 0   match_id        177 non-null    int64 \n",
      " 1   round_id        177 non-null    int64 \n",
      " 2   name            177 non-null    object\n",
      " 3   slug            177 non-null    object\n",
      " 4   cup_round_type  69 non-null     object\n",
      "dtypes: int64(2), object(3)\n",
      "memory usage: 7.0+ KB\n"
     ]
    }
   ],
   "source": [
    "round_df.info()"
   ]
  },
  {
   "cell_type": "markdown",
   "metadata": {},
   "source": [
    "### Venue Data Frame"
   ]
  },
  {
   "cell_type": "code",
   "execution_count": 11,
   "metadata": {},
   "outputs": [
    {
     "data": {
      "text/html": [
       "<div>\n",
       "<style scoped>\n",
       "    .dataframe tbody tr th:only-of-type {\n",
       "        vertical-align: middle;\n",
       "    }\n",
       "\n",
       "    .dataframe tbody tr th {\n",
       "        vertical-align: top;\n",
       "    }\n",
       "\n",
       "    .dataframe thead th {\n",
       "        text-align: right;\n",
       "    }\n",
       "</style>\n",
       "<table border=\"1\" class=\"dataframe\">\n",
       "  <thead>\n",
       "    <tr style=\"text-align: right;\">\n",
       "      <th></th>\n",
       "      <th>match_id</th>\n",
       "      <th>city</th>\n",
       "      <th>stadium</th>\n",
       "      <th>venue_id</th>\n",
       "      <th>country</th>\n",
       "    </tr>\n",
       "  </thead>\n",
       "  <tbody>\n",
       "    <tr>\n",
       "      <th>0</th>\n",
       "      <td>11673958</td>\n",
       "      <td>Bogota</td>\n",
       "      <td>Cancha Central</td>\n",
       "      <td>18338</td>\n",
       "      <td>Colombia</td>\n",
       "    </tr>\n",
       "    <tr>\n",
       "      <th>1</th>\n",
       "      <td>11673962</td>\n",
       "      <td>Bogota</td>\n",
       "      <td>Cancha Central</td>\n",
       "      <td>18338</td>\n",
       "      <td>Colombia</td>\n",
       "    </tr>\n",
       "    <tr>\n",
       "      <th>2</th>\n",
       "      <td>11673963</td>\n",
       "      <td>Bogota</td>\n",
       "      <td>Cancha Central</td>\n",
       "      <td>18338</td>\n",
       "      <td>Colombia</td>\n",
       "    </tr>\n",
       "  </tbody>\n",
       "</table>\n",
       "</div>"
      ],
      "text/plain": [
       "   match_id    city         stadium  venue_id   country\n",
       "0  11673958  Bogota  Cancha Central     18338  Colombia\n",
       "1  11673962  Bogota  Cancha Central     18338  Colombia\n",
       "2  11673963  Bogota  Cancha Central     18338  Colombia"
      ]
     },
     "execution_count": 11,
     "metadata": {},
     "output_type": "execute_result"
    }
   ],
   "source": [
    "data_dir = Path(\"tennis_data_20231212/raw_match_parquet/venue\")\n",
    "venue_df = pd.concat(\n",
    "    (pd.read_parquet(parquet_file) for parquet_file in data_dir.glob('*.parquet')), ignore_index=True\n",
    ")\n",
    "venue_df.head(3)"
   ]
  },
  {
   "cell_type": "code",
   "execution_count": 35,
   "metadata": {},
   "outputs": [
    {
     "name": "stdout",
     "output_type": "stream",
     "text": [
      "<class 'pandas.core.frame.DataFrame'>\n",
      "RangeIndex: 763 entries, 0 to 762\n",
      "Data columns (total 5 columns):\n",
      " #   Column    Non-Null Count  Dtype \n",
      "---  ------    --------------  ----- \n",
      " 0   match_id  763 non-null    int64 \n",
      " 1   city      763 non-null    object\n",
      " 2   stadium   763 non-null    object\n",
      " 3   venue_id  763 non-null    int64 \n",
      " 4   country   762 non-null    object\n",
      "dtypes: int64(2), object(3)\n",
      "memory usage: 29.9+ KB\n"
     ]
    }
   ],
   "source": [
    "venue_df.info()"
   ]
  },
  {
   "cell_type": "markdown",
   "metadata": {},
   "source": [
    "### Home Team Data Frame"
   ]
  },
  {
   "cell_type": "code",
   "execution_count": 12,
   "metadata": {},
   "outputs": [
    {
     "name": "stderr",
     "output_type": "stream",
     "text": [
      "C:\\Users\\amine\\AppData\\Local\\Temp\\ipykernel_3180\\2939222363.py:2: FutureWarning: The behavior of DataFrame concatenation with empty or all-NA entries is deprecated. In a future version, this will no longer exclude empty or all-NA columns when determining the result dtypes. To retain the old behavior, exclude the relevant entries before the concat operation.\n",
      "  home_team_df = pd.concat(\n"
     ]
    },
    {
     "data": {
      "text/html": [
       "<div>\n",
       "<style scoped>\n",
       "    .dataframe tbody tr th:only-of-type {\n",
       "        vertical-align: middle;\n",
       "    }\n",
       "\n",
       "    .dataframe tbody tr th {\n",
       "        vertical-align: top;\n",
       "    }\n",
       "\n",
       "    .dataframe thead th {\n",
       "        text-align: right;\n",
       "    }\n",
       "</style>\n",
       "<table border=\"1\" class=\"dataframe\">\n",
       "  <thead>\n",
       "    <tr style=\"text-align: right;\">\n",
       "      <th></th>\n",
       "      <th>match_id</th>\n",
       "      <th>name</th>\n",
       "      <th>slug</th>\n",
       "      <th>gender</th>\n",
       "      <th>user_count</th>\n",
       "      <th>residence</th>\n",
       "      <th>birthplace</th>\n",
       "      <th>height</th>\n",
       "      <th>weight</th>\n",
       "      <th>plays</th>\n",
       "      <th>turned_pro</th>\n",
       "      <th>current_prize</th>\n",
       "      <th>total_prize</th>\n",
       "      <th>player_id</th>\n",
       "      <th>current_rank</th>\n",
       "      <th>name_code</th>\n",
       "      <th>country</th>\n",
       "      <th>full_name</th>\n",
       "    </tr>\n",
       "  </thead>\n",
       "  <tbody>\n",
       "    <tr>\n",
       "      <th>0</th>\n",
       "      <td>11673958</td>\n",
       "      <td>Barrios Vera T.</td>\n",
       "      <td>barrios-vera-tomas</td>\n",
       "      <td>M</td>\n",
       "      <td>2915</td>\n",
       "      <td>Santiago</td>\n",
       "      <td>Chillan, Chile</td>\n",
       "      <td>1.91</td>\n",
       "      <td>83</td>\n",
       "      <td>right-handed</td>\n",
       "      <td>2014</td>\n",
       "      <td>265608</td>\n",
       "      <td>646273</td>\n",
       "      <td>132834</td>\n",
       "      <td>103</td>\n",
       "      <td>BAR</td>\n",
       "      <td>Chile</td>\n",
       "      <td>Barrios Vera, Tomás</td>\n",
       "    </tr>\n",
       "    <tr>\n",
       "      <th>1</th>\n",
       "      <td>11673962</td>\n",
       "      <td>Tirante T.</td>\n",
       "      <td>tirante-thiago-agustin</td>\n",
       "      <td>M</td>\n",
       "      <td>1519</td>\n",
       "      <td>La Plata</td>\n",
       "      <td>La Plata, Argentina</td>\n",
       "      <td>1.85</td>\n",
       "      <td>78</td>\n",
       "      <td>right-handed</td>\n",
       "      <td>None</td>\n",
       "      <td>249335</td>\n",
       "      <td>430793</td>\n",
       "      <td>221515</td>\n",
       "      <td>123</td>\n",
       "      <td>TIR</td>\n",
       "      <td>Argentina</td>\n",
       "      <td>Tirante, Thiago Agustin</td>\n",
       "    </tr>\n",
       "    <tr>\n",
       "      <th>2</th>\n",
       "      <td>11673963</td>\n",
       "      <td>Heide G.</td>\n",
       "      <td>heide-gustavo</td>\n",
       "      <td>M</td>\n",
       "      <td>1177</td>\n",
       "      <td>None</td>\n",
       "      <td>Sao Paulo</td>\n",
       "      <td>1.88</td>\n",
       "      <td>None</td>\n",
       "      <td>right-handed</td>\n",
       "      <td>None</td>\n",
       "      <td>36929</td>\n",
       "      <td>87230</td>\n",
       "      <td>302582</td>\n",
       "      <td>247</td>\n",
       "      <td>HEI</td>\n",
       "      <td>Brazil</td>\n",
       "      <td>Heide, Gustavo</td>\n",
       "    </tr>\n",
       "  </tbody>\n",
       "</table>\n",
       "</div>"
      ],
      "text/plain": [
       "   match_id             name                    slug gender  user_count  \\\n",
       "0  11673958  Barrios Vera T.      barrios-vera-tomas      M        2915   \n",
       "1  11673962       Tirante T.  tirante-thiago-agustin      M        1519   \n",
       "2  11673963         Heide G.           heide-gustavo      M        1177   \n",
       "\n",
       "  residence           birthplace  height weight         plays turned_pro  \\\n",
       "0  Santiago       Chillan, Chile    1.91     83  right-handed       2014   \n",
       "1  La Plata  La Plata, Argentina    1.85     78  right-handed       None   \n",
       "2      None            Sao Paulo    1.88   None  right-handed       None   \n",
       "\n",
       "  current_prize total_prize  player_id current_rank name_code    country  \\\n",
       "0        265608      646273     132834          103       BAR      Chile   \n",
       "1        249335      430793     221515          123       TIR  Argentina   \n",
       "2         36929       87230     302582          247       HEI     Brazil   \n",
       "\n",
       "                 full_name  \n",
       "0      Barrios Vera, Tomás  \n",
       "1  Tirante, Thiago Agustin  \n",
       "2           Heide, Gustavo  "
      ]
     },
     "execution_count": 12,
     "metadata": {},
     "output_type": "execute_result"
    }
   ],
   "source": [
    "data_dir = Path(\"tennis_data_20231212/raw_match_parquet/home\")\n",
    "home_team_df = pd.concat(\n",
    "    (pd.read_parquet(parquet_file) for parquet_file in data_dir.glob('*.parquet')), ignore_index=True\n",
    ")\n",
    "home_team_df.head(3)"
   ]
  },
  {
   "cell_type": "code",
   "execution_count": 37,
   "metadata": {},
   "outputs": [
    {
     "name": "stdout",
     "output_type": "stream",
     "text": [
      "<class 'pandas.core.frame.DataFrame'>\n",
      "RangeIndex: 436 entries, 0 to 435\n",
      "Data columns (total 18 columns):\n",
      " #   Column         Non-Null Count  Dtype  \n",
      "---  ------         --------------  -----  \n",
      " 0   match_id       436 non-null    int64  \n",
      " 1   name           436 non-null    object \n",
      " 2   slug           436 non-null    object \n",
      " 3   gender         436 non-null    object \n",
      " 4   user_count     436 non-null    int64  \n",
      " 5   residence      112 non-null    object \n",
      " 6   birthplace     245 non-null    object \n",
      " 7   height         237 non-null    float64\n",
      " 8   weight         112 non-null    object \n",
      " 9   plays          181 non-null    object \n",
      " 10  turned_pro     65 non-null     object \n",
      " 11  current_prize  427 non-null    object \n",
      " 12  total_prize    432 non-null    object \n",
      " 13  player_id      436 non-null    int64  \n",
      " 14  current_rank   430 non-null    object \n",
      " 15  name_code      436 non-null    object \n",
      " 16  country        435 non-null    object \n",
      " 17  full_name      436 non-null    object \n",
      "dtypes: float64(1), int64(3), object(14)\n",
      "memory usage: 61.4+ KB\n"
     ]
    }
   ],
   "source": [
    "home_team_df.info()"
   ]
  },
  {
   "cell_type": "markdown",
   "metadata": {},
   "source": [
    "### Away Team Data Frame"
   ]
  },
  {
   "cell_type": "code",
   "execution_count": 13,
   "metadata": {},
   "outputs": [
    {
     "name": "stderr",
     "output_type": "stream",
     "text": [
      "C:\\Users\\amine\\AppData\\Local\\Temp\\ipykernel_3180\\2063714720.py:2: FutureWarning: The behavior of DataFrame concatenation with empty or all-NA entries is deprecated. In a future version, this will no longer exclude empty or all-NA columns when determining the result dtypes. To retain the old behavior, exclude the relevant entries before the concat operation.\n",
      "  away_team_df = pd.concat(\n"
     ]
    },
    {
     "data": {
      "text/html": [
       "<div>\n",
       "<style scoped>\n",
       "    .dataframe tbody tr th:only-of-type {\n",
       "        vertical-align: middle;\n",
       "    }\n",
       "\n",
       "    .dataframe tbody tr th {\n",
       "        vertical-align: top;\n",
       "    }\n",
       "\n",
       "    .dataframe thead th {\n",
       "        text-align: right;\n",
       "    }\n",
       "</style>\n",
       "<table border=\"1\" class=\"dataframe\">\n",
       "  <thead>\n",
       "    <tr style=\"text-align: right;\">\n",
       "      <th></th>\n",
       "      <th>match_id</th>\n",
       "      <th>name</th>\n",
       "      <th>slug</th>\n",
       "      <th>gender</th>\n",
       "      <th>user_count</th>\n",
       "      <th>residence</th>\n",
       "      <th>birthplace</th>\n",
       "      <th>height</th>\n",
       "      <th>weight</th>\n",
       "      <th>plays</th>\n",
       "      <th>turned_pro</th>\n",
       "      <th>current_prize</th>\n",
       "      <th>total_prize</th>\n",
       "      <th>player_id</th>\n",
       "      <th>current_rank</th>\n",
       "      <th>name_code</th>\n",
       "      <th>country</th>\n",
       "      <th>full_name</th>\n",
       "    </tr>\n",
       "  </thead>\n",
       "  <tbody>\n",
       "    <tr>\n",
       "      <th>0</th>\n",
       "      <td>11673958</td>\n",
       "      <td>Tirante T.</td>\n",
       "      <td>tirante-thiago-agustin</td>\n",
       "      <td>M</td>\n",
       "      <td>1519</td>\n",
       "      <td>La Plata</td>\n",
       "      <td>La Plata, Argentina</td>\n",
       "      <td>1.85</td>\n",
       "      <td>78</td>\n",
       "      <td>right-handed</td>\n",
       "      <td>None</td>\n",
       "      <td>249335</td>\n",
       "      <td>430793</td>\n",
       "      <td>221515</td>\n",
       "      <td>123</td>\n",
       "      <td>TIR</td>\n",
       "      <td>Argentina</td>\n",
       "      <td>Tirante, Thiago Agustin</td>\n",
       "    </tr>\n",
       "    <tr>\n",
       "      <th>1</th>\n",
       "      <td>11673962</td>\n",
       "      <td>Heide G.</td>\n",
       "      <td>heide-gustavo</td>\n",
       "      <td>M</td>\n",
       "      <td>1177</td>\n",
       "      <td>None</td>\n",
       "      <td>Sao Paulo</td>\n",
       "      <td>1.88</td>\n",
       "      <td>None</td>\n",
       "      <td>right-handed</td>\n",
       "      <td>None</td>\n",
       "      <td>36929</td>\n",
       "      <td>87230</td>\n",
       "      <td>302582</td>\n",
       "      <td>247</td>\n",
       "      <td>HEI</td>\n",
       "      <td>Brazil</td>\n",
       "      <td>Heide, Gustavo</td>\n",
       "    </tr>\n",
       "    <tr>\n",
       "      <th>2</th>\n",
       "      <td>11673963</td>\n",
       "      <td>Jorda Sanchis D.</td>\n",
       "      <td>jorda-sanchis-david</td>\n",
       "      <td>M</td>\n",
       "      <td>344</td>\n",
       "      <td>Spain</td>\n",
       "      <td>Barcelona, Spain</td>\n",
       "      <td>1.98</td>\n",
       "      <td>83</td>\n",
       "      <td>right-handed</td>\n",
       "      <td>None</td>\n",
       "      <td>27028</td>\n",
       "      <td>72338</td>\n",
       "      <td>57155</td>\n",
       "      <td>331</td>\n",
       "      <td>JOR</td>\n",
       "      <td>Spain</td>\n",
       "      <td>Jorda Sanchis, David</td>\n",
       "    </tr>\n",
       "  </tbody>\n",
       "</table>\n",
       "</div>"
      ],
      "text/plain": [
       "   match_id              name                    slug gender  user_count  \\\n",
       "0  11673958        Tirante T.  tirante-thiago-agustin      M        1519   \n",
       "1  11673962          Heide G.           heide-gustavo      M        1177   \n",
       "2  11673963  Jorda Sanchis D.     jorda-sanchis-david      M         344   \n",
       "\n",
       "  residence           birthplace  height weight         plays turned_pro  \\\n",
       "0  La Plata  La Plata, Argentina    1.85     78  right-handed       None   \n",
       "1      None            Sao Paulo    1.88   None  right-handed       None   \n",
       "2     Spain     Barcelona, Spain    1.98     83  right-handed       None   \n",
       "\n",
       "  current_prize total_prize  player_id current_rank name_code    country  \\\n",
       "0        249335      430793     221515          123       TIR  Argentina   \n",
       "1         36929       87230     302582          247       HEI     Brazil   \n",
       "2         27028       72338      57155          331       JOR      Spain   \n",
       "\n",
       "                 full_name  \n",
       "0  Tirante, Thiago Agustin  \n",
       "1           Heide, Gustavo  \n",
       "2     Jorda Sanchis, David  "
      ]
     },
     "execution_count": 13,
     "metadata": {},
     "output_type": "execute_result"
    }
   ],
   "source": [
    "data_dir = Path(\"tennis_data_20231212/raw_match_parquet/away\")\n",
    "away_team_df = pd.concat(\n",
    "    (pd.read_parquet(parquet_file) for parquet_file in data_dir.glob('*.parquet')), ignore_index=True\n",
    ")\n",
    "away_team_df.head(3)"
   ]
  },
  {
   "cell_type": "code",
   "execution_count": 39,
   "metadata": {},
   "outputs": [
    {
     "name": "stdout",
     "output_type": "stream",
     "text": [
      "<class 'pandas.core.frame.DataFrame'>\n",
      "RangeIndex: 386 entries, 0 to 385\n",
      "Data columns (total 18 columns):\n",
      " #   Column         Non-Null Count  Dtype  \n",
      "---  ------         --------------  -----  \n",
      " 0   match_id       386 non-null    int64  \n",
      " 1   name           386 non-null    object \n",
      " 2   slug           386 non-null    object \n",
      " 3   gender         386 non-null    object \n",
      " 4   user_count     386 non-null    int64  \n",
      " 5   residence      116 non-null    object \n",
      " 6   birthplace     219 non-null    object \n",
      " 7   height         215 non-null    float64\n",
      " 8   weight         113 non-null    object \n",
      " 9   plays          177 non-null    object \n",
      " 10  turned_pro     71 non-null     object \n",
      " 11  current_prize  374 non-null    object \n",
      " 12  total_prize    383 non-null    object \n",
      " 13  player_id      386 non-null    int64  \n",
      " 14  current_rank   368 non-null    object \n",
      " 15  name_code      386 non-null    object \n",
      " 16  country        385 non-null    object \n",
      " 17  full_name      386 non-null    object \n",
      "dtypes: float64(1), int64(3), object(14)\n",
      "memory usage: 54.4+ KB\n"
     ]
    }
   ],
   "source": [
    "away_team_df.info()"
   ]
  },
  {
   "cell_type": "markdown",
   "metadata": {},
   "source": [
    "### Home Team Score Data Frame"
   ]
  },
  {
   "cell_type": "code",
   "execution_count": 14,
   "metadata": {},
   "outputs": [
    {
     "data": {
      "text/html": [
       "<div>\n",
       "<style scoped>\n",
       "    .dataframe tbody tr th:only-of-type {\n",
       "        vertical-align: middle;\n",
       "    }\n",
       "\n",
       "    .dataframe tbody tr th {\n",
       "        vertical-align: top;\n",
       "    }\n",
       "\n",
       "    .dataframe thead th {\n",
       "        text-align: right;\n",
       "    }\n",
       "</style>\n",
       "<table border=\"1\" class=\"dataframe\">\n",
       "  <thead>\n",
       "    <tr style=\"text-align: right;\">\n",
       "      <th></th>\n",
       "      <th>match_id</th>\n",
       "      <th>current_score</th>\n",
       "      <th>display_score</th>\n",
       "      <th>period_1</th>\n",
       "      <th>period_2</th>\n",
       "      <th>period_3</th>\n",
       "      <th>period_4</th>\n",
       "      <th>period_5</th>\n",
       "      <th>period_1_tie_break</th>\n",
       "      <th>period_2_tie_break</th>\n",
       "      <th>period_3_tie_break</th>\n",
       "      <th>period_4_tie_break</th>\n",
       "      <th>period_5_tie_break</th>\n",
       "      <th>normal_time</th>\n",
       "    </tr>\n",
       "  </thead>\n",
       "  <tbody>\n",
       "    <tr>\n",
       "      <th>0</th>\n",
       "      <td>11673958</td>\n",
       "      <td>0</td>\n",
       "      <td>0</td>\n",
       "      <td>2</td>\n",
       "      <td>4</td>\n",
       "      <td>None</td>\n",
       "      <td>None</td>\n",
       "      <td>None</td>\n",
       "      <td>None</td>\n",
       "      <td>None</td>\n",
       "      <td>None</td>\n",
       "      <td>None</td>\n",
       "      <td>None</td>\n",
       "      <td>None</td>\n",
       "    </tr>\n",
       "    <tr>\n",
       "      <th>1</th>\n",
       "      <td>11673962</td>\n",
       "      <td>None</td>\n",
       "      <td>None</td>\n",
       "      <td>None</td>\n",
       "      <td>None</td>\n",
       "      <td>None</td>\n",
       "      <td>None</td>\n",
       "      <td>None</td>\n",
       "      <td>None</td>\n",
       "      <td>None</td>\n",
       "      <td>None</td>\n",
       "      <td>None</td>\n",
       "      <td>None</td>\n",
       "      <td>None</td>\n",
       "    </tr>\n",
       "    <tr>\n",
       "      <th>2</th>\n",
       "      <td>11673963</td>\n",
       "      <td>2</td>\n",
       "      <td>2</td>\n",
       "      <td>7</td>\n",
       "      <td>6</td>\n",
       "      <td>None</td>\n",
       "      <td>None</td>\n",
       "      <td>None</td>\n",
       "      <td>None</td>\n",
       "      <td>None</td>\n",
       "      <td>None</td>\n",
       "      <td>None</td>\n",
       "      <td>None</td>\n",
       "      <td>None</td>\n",
       "    </tr>\n",
       "  </tbody>\n",
       "</table>\n",
       "</div>"
      ],
      "text/plain": [
       "   match_id current_score display_score period_1 period_2 period_3 period_4  \\\n",
       "0  11673958             0             0        2        4     None     None   \n",
       "1  11673962          None          None     None     None     None     None   \n",
       "2  11673963             2             2        7        6     None     None   \n",
       "\n",
       "  period_5 period_1_tie_break period_2_tie_break period_3_tie_break  \\\n",
       "0     None               None               None               None   \n",
       "1     None               None               None               None   \n",
       "2     None               None               None               None   \n",
       "\n",
       "  period_4_tie_break period_5_tie_break normal_time  \n",
       "0               None               None        None  \n",
       "1               None               None        None  \n",
       "2               None               None        None  "
      ]
     },
     "execution_count": 14,
     "metadata": {},
     "output_type": "execute_result"
    }
   ],
   "source": [
    "data_dir = Path(\"tennis_data_20231212/raw_match_parquet/home_score\")\n",
    "home_score_df = pd.concat(\n",
    "   (pd.read_parquet(parquet_file) for parquet_file in data_dir.glob('*.parquet')), ignore_index=True\n",
    ")\n",
    "home_score_df.head(3)"
   ]
  },
  {
   "cell_type": "code",
   "execution_count": 41,
   "metadata": {},
   "outputs": [
    {
     "name": "stdout",
     "output_type": "stream",
     "text": [
      "<class 'pandas.core.frame.DataFrame'>\n",
      "RangeIndex: 764 entries, 0 to 763\n",
      "Data columns (total 14 columns):\n",
      " #   Column              Non-Null Count  Dtype \n",
      "---  ------              --------------  ----- \n",
      " 0   match_id            764 non-null    int64 \n",
      " 1   current_score       739 non-null    object\n",
      " 2   display_score       739 non-null    object\n",
      " 3   period_1            746 non-null    object\n",
      " 4   period_2            740 non-null    object\n",
      " 5   period_3            181 non-null    object\n",
      " 6   period_4            0 non-null      object\n",
      " 7   period_5            0 non-null      object\n",
      " 8   period_1_tie_break  17 non-null     object\n",
      " 9   period_2_tie_break  20 non-null     object\n",
      " 10  period_3_tie_break  4 non-null      object\n",
      " 11  period_4_tie_break  0 non-null      object\n",
      " 12  period_5_tie_break  0 non-null      object\n",
      " 13  normal_time         0 non-null      object\n",
      "dtypes: int64(1), object(13)\n",
      "memory usage: 83.7+ KB\n"
     ]
    }
   ],
   "source": [
    "home_score_df.info()"
   ]
  },
  {
   "cell_type": "markdown",
   "metadata": {},
   "source": [
    "### Away Team Score Data Frame"
   ]
  },
  {
   "cell_type": "code",
   "execution_count": 15,
   "metadata": {},
   "outputs": [
    {
     "data": {
      "text/html": [
       "<div>\n",
       "<style scoped>\n",
       "    .dataframe tbody tr th:only-of-type {\n",
       "        vertical-align: middle;\n",
       "    }\n",
       "\n",
       "    .dataframe tbody tr th {\n",
       "        vertical-align: top;\n",
       "    }\n",
       "\n",
       "    .dataframe thead th {\n",
       "        text-align: right;\n",
       "    }\n",
       "</style>\n",
       "<table border=\"1\" class=\"dataframe\">\n",
       "  <thead>\n",
       "    <tr style=\"text-align: right;\">\n",
       "      <th></th>\n",
       "      <th>match_id</th>\n",
       "      <th>current_score</th>\n",
       "      <th>display_score</th>\n",
       "      <th>period_1</th>\n",
       "      <th>period_2</th>\n",
       "      <th>period_3</th>\n",
       "      <th>period_4</th>\n",
       "      <th>period_5</th>\n",
       "      <th>period_1_tie_break</th>\n",
       "      <th>period_2_tie_break</th>\n",
       "      <th>period_3_tie_break</th>\n",
       "      <th>period_4_tie_break</th>\n",
       "      <th>period_5_tie_break</th>\n",
       "      <th>normal_time</th>\n",
       "    </tr>\n",
       "  </thead>\n",
       "  <tbody>\n",
       "    <tr>\n",
       "      <th>0</th>\n",
       "      <td>11673958</td>\n",
       "      <td>2</td>\n",
       "      <td>2</td>\n",
       "      <td>6</td>\n",
       "      <td>6</td>\n",
       "      <td>None</td>\n",
       "      <td>None</td>\n",
       "      <td>None</td>\n",
       "      <td>None</td>\n",
       "      <td>None</td>\n",
       "      <td>None</td>\n",
       "      <td>None</td>\n",
       "      <td>None</td>\n",
       "      <td>None</td>\n",
       "    </tr>\n",
       "    <tr>\n",
       "      <th>1</th>\n",
       "      <td>11673962</td>\n",
       "      <td>None</td>\n",
       "      <td>None</td>\n",
       "      <td>None</td>\n",
       "      <td>None</td>\n",
       "      <td>None</td>\n",
       "      <td>None</td>\n",
       "      <td>None</td>\n",
       "      <td>None</td>\n",
       "      <td>None</td>\n",
       "      <td>None</td>\n",
       "      <td>None</td>\n",
       "      <td>None</td>\n",
       "      <td>None</td>\n",
       "    </tr>\n",
       "    <tr>\n",
       "      <th>2</th>\n",
       "      <td>11673963</td>\n",
       "      <td>0</td>\n",
       "      <td>0</td>\n",
       "      <td>6</td>\n",
       "      <td>4</td>\n",
       "      <td>None</td>\n",
       "      <td>None</td>\n",
       "      <td>None</td>\n",
       "      <td>None</td>\n",
       "      <td>None</td>\n",
       "      <td>None</td>\n",
       "      <td>None</td>\n",
       "      <td>None</td>\n",
       "      <td>None</td>\n",
       "    </tr>\n",
       "  </tbody>\n",
       "</table>\n",
       "</div>"
      ],
      "text/plain": [
       "   match_id current_score display_score period_1 period_2 period_3 period_4  \\\n",
       "0  11673958             2             2        6        6     None     None   \n",
       "1  11673962          None          None     None     None     None     None   \n",
       "2  11673963             0             0        6        4     None     None   \n",
       "\n",
       "  period_5 period_1_tie_break period_2_tie_break period_3_tie_break  \\\n",
       "0     None               None               None               None   \n",
       "1     None               None               None               None   \n",
       "2     None               None               None               None   \n",
       "\n",
       "  period_4_tie_break period_5_tie_break normal_time  \n",
       "0               None               None        None  \n",
       "1               None               None        None  \n",
       "2               None               None        None  "
      ]
     },
     "execution_count": 15,
     "metadata": {},
     "output_type": "execute_result"
    }
   ],
   "source": [
    "data_dir = Path(\"tennis_data_20231212/raw_match_parquet/away_score\")\n",
    "away_score_df = pd.concat(\n",
    "    (pd.read_parquet(parquet_file) for parquet_file in data_dir.glob('*.parquet')), ignore_index=True\n",
    ")\n",
    "away_score_df.head(3)"
   ]
  },
  {
   "cell_type": "code",
   "execution_count": 44,
   "metadata": {},
   "outputs": [
    {
     "name": "stdout",
     "output_type": "stream",
     "text": [
      "<class 'pandas.core.frame.DataFrame'>\n",
      "RangeIndex: 764 entries, 0 to 763\n",
      "Data columns (total 14 columns):\n",
      " #   Column              Non-Null Count  Dtype \n",
      "---  ------              --------------  ----- \n",
      " 0   match_id            764 non-null    int64 \n",
      " 1   current_score       739 non-null    object\n",
      " 2   display_score       739 non-null    object\n",
      " 3   period_1            746 non-null    object\n",
      " 4   period_2            740 non-null    object\n",
      " 5   period_3            181 non-null    object\n",
      " 6   period_4            0 non-null      object\n",
      " 7   period_5            0 non-null      object\n",
      " 8   period_1_tie_break  17 non-null     object\n",
      " 9   period_2_tie_break  20 non-null     object\n",
      " 10  period_3_tie_break  4 non-null      object\n",
      " 11  period_4_tie_break  0 non-null      object\n",
      " 12  period_5_tie_break  0 non-null      object\n",
      " 13  normal_time         0 non-null      object\n",
      "dtypes: int64(1), object(13)\n",
      "memory usage: 83.7+ KB\n"
     ]
    }
   ],
   "source": [
    "away_score_df.info()"
   ]
  },
  {
   "cell_type": "markdown",
   "metadata": {},
   "source": [
    "### Time Data Frame"
   ]
  },
  {
   "cell_type": "code",
   "execution_count": 16,
   "metadata": {},
   "outputs": [
    {
     "data": {
      "text/html": [
       "<div>\n",
       "<style scoped>\n",
       "    .dataframe tbody tr th:only-of-type {\n",
       "        vertical-align: middle;\n",
       "    }\n",
       "\n",
       "    .dataframe tbody tr th {\n",
       "        vertical-align: top;\n",
       "    }\n",
       "\n",
       "    .dataframe thead th {\n",
       "        text-align: right;\n",
       "    }\n",
       "</style>\n",
       "<table border=\"1\" class=\"dataframe\">\n",
       "  <thead>\n",
       "    <tr style=\"text-align: right;\">\n",
       "      <th></th>\n",
       "      <th>match_id</th>\n",
       "      <th>period_1</th>\n",
       "      <th>period_2</th>\n",
       "      <th>period_3</th>\n",
       "      <th>period_4</th>\n",
       "      <th>period_5</th>\n",
       "      <th>current_period_start_timestamp</th>\n",
       "    </tr>\n",
       "  </thead>\n",
       "  <tbody>\n",
       "    <tr>\n",
       "      <th>0</th>\n",
       "      <td>11673958</td>\n",
       "      <td>1960</td>\n",
       "      <td>2457</td>\n",
       "      <td>None</td>\n",
       "      <td>None</td>\n",
       "      <td>None</td>\n",
       "      <td>1696097817</td>\n",
       "    </tr>\n",
       "    <tr>\n",
       "      <th>1</th>\n",
       "      <td>11673962</td>\n",
       "      <td>None</td>\n",
       "      <td>None</td>\n",
       "      <td>None</td>\n",
       "      <td>None</td>\n",
       "      <td>None</td>\n",
       "      <td>1696176527</td>\n",
       "    </tr>\n",
       "    <tr>\n",
       "      <th>2</th>\n",
       "      <td>11673963</td>\n",
       "      <td>3403</td>\n",
       "      <td>2431</td>\n",
       "      <td>None</td>\n",
       "      <td>None</td>\n",
       "      <td>None</td>\n",
       "      <td>1696091852</td>\n",
       "    </tr>\n",
       "  </tbody>\n",
       "</table>\n",
       "</div>"
      ],
      "text/plain": [
       "   match_id period_1 period_2 period_3 period_4 period_5  \\\n",
       "0  11673958     1960     2457     None     None     None   \n",
       "1  11673962     None     None     None     None     None   \n",
       "2  11673963     3403     2431     None     None     None   \n",
       "\n",
       "  current_period_start_timestamp  \n",
       "0                     1696097817  \n",
       "1                     1696176527  \n",
       "2                     1696091852  "
      ]
     },
     "execution_count": 16,
     "metadata": {},
     "output_type": "execute_result"
    }
   ],
   "source": [
    "data_dir = Path(\"tennis_data_20231212/raw_match_parquet/time\")\n",
    "time_df = pd.concat(\n",
    "    (pd.read_parquet(parquet_file) for parquet_file in data_dir.glob('*.parquet')), ignore_index=True\n",
    ")\n",
    "time_df.head(3)"
   ]
  },
  {
   "cell_type": "code",
   "execution_count": 46,
   "metadata": {},
   "outputs": [
    {
     "name": "stdout",
     "output_type": "stream",
     "text": [
      "<class 'pandas.core.frame.DataFrame'>\n",
      "RangeIndex: 764 entries, 0 to 763\n",
      "Data columns (total 7 columns):\n",
      " #   Column                          Non-Null Count  Dtype \n",
      "---  ------                          --------------  ----- \n",
      " 0   match_id                        764 non-null    int64 \n",
      " 1   period_1                        320 non-null    object\n",
      " 2   period_2                        319 non-null    object\n",
      " 3   period_3                        107 non-null    object\n",
      " 4   period_4                        0 non-null      object\n",
      " 5   period_5                        0 non-null      object\n",
      " 6   current_period_start_timestamp  329 non-null    object\n",
      "dtypes: int64(1), object(6)\n",
      "memory usage: 41.9+ KB\n"
     ]
    }
   ],
   "source": [
    "time_df.info()"
   ]
  },
  {
   "cell_type": "markdown",
   "metadata": {},
   "source": [
    "### Odds Data Frame"
   ]
  },
  {
   "cell_type": "code",
   "execution_count": 18,
   "metadata": {},
   "outputs": [
    {
     "data": {
      "text/html": [
       "<div>\n",
       "<style scoped>\n",
       "    .dataframe tbody tr th:only-of-type {\n",
       "        vertical-align: middle;\n",
       "    }\n",
       "\n",
       "    .dataframe tbody tr th {\n",
       "        vertical-align: top;\n",
       "    }\n",
       "\n",
       "    .dataframe thead th {\n",
       "        text-align: right;\n",
       "    }\n",
       "</style>\n",
       "<table border=\"1\" class=\"dataframe\">\n",
       "  <thead>\n",
       "    <tr style=\"text-align: right;\">\n",
       "      <th></th>\n",
       "      <th>match_id</th>\n",
       "      <th>market_id</th>\n",
       "      <th>market_name</th>\n",
       "      <th>is_live</th>\n",
       "      <th>suspended</th>\n",
       "      <th>initial_fractional_value</th>\n",
       "      <th>fractional_value</th>\n",
       "      <th>choice_name</th>\n",
       "      <th>choice_source_id</th>\n",
       "      <th>winnig</th>\n",
       "      <th>change</th>\n",
       "    </tr>\n",
       "  </thead>\n",
       "  <tbody>\n",
       "    <tr>\n",
       "      <th>0</th>\n",
       "      <td>11673958</td>\n",
       "      <td>1</td>\n",
       "      <td>full_time</td>\n",
       "      <td>False</td>\n",
       "      <td>False</td>\n",
       "      <td>73/100</td>\n",
       "      <td>83/100</td>\n",
       "      <td>1</td>\n",
       "      <td>1349454568</td>\n",
       "      <td>False</td>\n",
       "      <td>1</td>\n",
       "    </tr>\n",
       "    <tr>\n",
       "      <th>1</th>\n",
       "      <td>11673958</td>\n",
       "      <td>1</td>\n",
       "      <td>full_time</td>\n",
       "      <td>False</td>\n",
       "      <td>False</td>\n",
       "      <td>1/1</td>\n",
       "      <td>83/100</td>\n",
       "      <td>2</td>\n",
       "      <td>1349454681</td>\n",
       "      <td>True</td>\n",
       "      <td>-1</td>\n",
       "    </tr>\n",
       "    <tr>\n",
       "      <th>2</th>\n",
       "      <td>11673958</td>\n",
       "      <td>11</td>\n",
       "      <td>first_set_winner</td>\n",
       "      <td>False</td>\n",
       "      <td>False</td>\n",
       "      <td>8/11</td>\n",
       "      <td>5/6</td>\n",
       "      <td>1</td>\n",
       "      <td>1349620691</td>\n",
       "      <td>False</td>\n",
       "      <td>1</td>\n",
       "    </tr>\n",
       "  </tbody>\n",
       "</table>\n",
       "</div>"
      ],
      "text/plain": [
       "   match_id  market_id       market_name  is_live  suspended  \\\n",
       "0  11673958          1         full_time    False      False   \n",
       "1  11673958          1         full_time    False      False   \n",
       "2  11673958         11  first_set_winner    False      False   \n",
       "\n",
       "  initial_fractional_value fractional_value choice_name  choice_source_id  \\\n",
       "0                   73/100           83/100           1        1349454568   \n",
       "1                      1/1           83/100           2        1349454681   \n",
       "2                     8/11              5/6           1        1349620691   \n",
       "\n",
       "  winnig  change  \n",
       "0  False       1  \n",
       "1   True      -1  \n",
       "2  False       1  "
      ]
     },
     "execution_count": 18,
     "metadata": {},
     "output_type": "execute_result"
    }
   ],
   "source": [
    "data_dir = Path(\"tennis_data_20231212/raw_odds_parquet\")\n",
    "odds_df = pd.concat(\n",
    "    (pd.read_parquet(parquet_file) for parquet_file in data_dir.glob('*.parquet')), ignore_index=True\n",
    ")\n",
    "odds_df.head(3)"
   ]
  },
  {
   "cell_type": "code",
   "execution_count": 48,
   "metadata": {},
   "outputs": [
    {
     "name": "stdout",
     "output_type": "stream",
     "text": [
      "<class 'pandas.core.frame.DataFrame'>\n",
      "RangeIndex: 848 entries, 0 to 847\n",
      "Data columns (total 11 columns):\n",
      " #   Column                    Non-Null Count  Dtype \n",
      "---  ------                    --------------  ----- \n",
      " 0   match_id                  848 non-null    int64 \n",
      " 1   market_id                 848 non-null    int64 \n",
      " 2   market_name               848 non-null    object\n",
      " 3   is_live                   848 non-null    bool  \n",
      " 4   suspended                 848 non-null    bool  \n",
      " 5   initial_fractional_value  848 non-null    object\n",
      " 6   fractional_value          848 non-null    object\n",
      " 7   choice_name               848 non-null    object\n",
      " 8   choice_source_id          848 non-null    int64 \n",
      " 9   winnig                    836 non-null    object\n",
      " 10  change                    848 non-null    int64 \n",
      "dtypes: bool(2), int64(4), object(5)\n",
      "memory usage: 61.4+ KB\n"
     ]
    }
   ],
   "source": [
    "odds_df.info()"
   ]
  },
  {
   "cell_type": "markdown",
   "metadata": {},
   "source": [
    "### Tennis Power Data Frame"
   ]
  },
  {
   "cell_type": "code",
   "execution_count": 19,
   "metadata": {},
   "outputs": [
    {
     "data": {
      "text/html": [
       "<div>\n",
       "<style scoped>\n",
       "    .dataframe tbody tr th:only-of-type {\n",
       "        vertical-align: middle;\n",
       "    }\n",
       "\n",
       "    .dataframe tbody tr th {\n",
       "        vertical-align: top;\n",
       "    }\n",
       "\n",
       "    .dataframe thead th {\n",
       "        text-align: right;\n",
       "    }\n",
       "</style>\n",
       "<table border=\"1\" class=\"dataframe\">\n",
       "  <thead>\n",
       "    <tr style=\"text-align: right;\">\n",
       "      <th></th>\n",
       "      <th>match_id</th>\n",
       "      <th>set_num</th>\n",
       "      <th>game_num</th>\n",
       "      <th>value</th>\n",
       "      <th>break_occurred</th>\n",
       "    </tr>\n",
       "  </thead>\n",
       "  <tbody>\n",
       "    <tr>\n",
       "      <th>0</th>\n",
       "      <td>11674074</td>\n",
       "      <td>1</td>\n",
       "      <td>1</td>\n",
       "      <td>30.5</td>\n",
       "      <td>False</td>\n",
       "    </tr>\n",
       "    <tr>\n",
       "      <th>1</th>\n",
       "      <td>11674074</td>\n",
       "      <td>1</td>\n",
       "      <td>2</td>\n",
       "      <td>81.1</td>\n",
       "      <td>True</td>\n",
       "    </tr>\n",
       "    <tr>\n",
       "      <th>2</th>\n",
       "      <td>11674074</td>\n",
       "      <td>1</td>\n",
       "      <td>3</td>\n",
       "      <td>51.6</td>\n",
       "      <td>False</td>\n",
       "    </tr>\n",
       "  </tbody>\n",
       "</table>\n",
       "</div>"
      ],
      "text/plain": [
       "   match_id  set_num  game_num  value  break_occurred\n",
       "0  11674074        1         1   30.5           False\n",
       "1  11674074        1         2   81.1            True\n",
       "2  11674074        1         3   51.6           False"
      ]
     },
     "execution_count": 19,
     "metadata": {},
     "output_type": "execute_result"
    }
   ],
   "source": [
    "data_dir = Path(\"tennis_data_20231212/raw_tennis_power_parquet\")\n",
    "tennis_power_df = pd.concat(\n",
    "    (pd.read_parquet(parquet_file) for parquet_file in data_dir.glob('*.parquet')), ignore_index=True\n",
    ")\n",
    "tennis_power_df.head(3)"
   ]
  },
  {
   "cell_type": "code",
   "execution_count": 50,
   "metadata": {},
   "outputs": [
    {
     "name": "stdout",
     "output_type": "stream",
     "text": [
      "<class 'pandas.core.frame.DataFrame'>\n",
      "RangeIndex: 3476 entries, 0 to 3475\n",
      "Data columns (total 5 columns):\n",
      " #   Column          Non-Null Count  Dtype  \n",
      "---  ------          --------------  -----  \n",
      " 0   match_id        3476 non-null   int64  \n",
      " 1   set_num         3476 non-null   int64  \n",
      " 2   game_num        3476 non-null   int64  \n",
      " 3   value           3476 non-null   float64\n",
      " 4   break_occurred  3476 non-null   bool   \n",
      "dtypes: bool(1), float64(1), int64(3)\n",
      "memory usage: 112.1 KB\n"
     ]
    }
   ],
   "source": [
    "tennis_power_df.info()"
   ]
  },
  {
   "cell_type": "markdown",
   "metadata": {},
   "source": [
    "### Point by Point Data Frame"
   ]
  },
  {
   "cell_type": "code",
   "execution_count": 21,
   "metadata": {},
   "outputs": [
    {
     "data": {
      "text/html": [
       "<div>\n",
       "<style scoped>\n",
       "    .dataframe tbody tr th:only-of-type {\n",
       "        vertical-align: middle;\n",
       "    }\n",
       "\n",
       "    .dataframe tbody tr th {\n",
       "        vertical-align: top;\n",
       "    }\n",
       "\n",
       "    .dataframe thead th {\n",
       "        text-align: right;\n",
       "    }\n",
       "</style>\n",
       "<table border=\"1\" class=\"dataframe\">\n",
       "  <thead>\n",
       "    <tr style=\"text-align: right;\">\n",
       "      <th></th>\n",
       "      <th>match_id</th>\n",
       "      <th>set_id</th>\n",
       "      <th>game_id</th>\n",
       "      <th>point_id</th>\n",
       "      <th>home_point</th>\n",
       "      <th>away_point</th>\n",
       "      <th>point_description</th>\n",
       "      <th>home_point_type</th>\n",
       "      <th>away_point_type</th>\n",
       "      <th>home_score</th>\n",
       "      <th>away_score</th>\n",
       "      <th>serving</th>\n",
       "      <th>scoring</th>\n",
       "    </tr>\n",
       "  </thead>\n",
       "  <tbody>\n",
       "    <tr>\n",
       "      <th>0</th>\n",
       "      <td>11674074</td>\n",
       "      <td>2</td>\n",
       "      <td>7</td>\n",
       "      <td>0</td>\n",
       "      <td>0</td>\n",
       "      <td>15</td>\n",
       "      <td>2</td>\n",
       "      <td>5</td>\n",
       "      <td>1</td>\n",
       "      <td>6</td>\n",
       "      <td>1</td>\n",
       "      <td>1</td>\n",
       "      <td>1</td>\n",
       "    </tr>\n",
       "    <tr>\n",
       "      <th>1</th>\n",
       "      <td>11674074</td>\n",
       "      <td>2</td>\n",
       "      <td>7</td>\n",
       "      <td>1</td>\n",
       "      <td>0</td>\n",
       "      <td>30</td>\n",
       "      <td>0</td>\n",
       "      <td>5</td>\n",
       "      <td>1</td>\n",
       "      <td>6</td>\n",
       "      <td>1</td>\n",
       "      <td>1</td>\n",
       "      <td>1</td>\n",
       "    </tr>\n",
       "    <tr>\n",
       "      <th>2</th>\n",
       "      <td>11674074</td>\n",
       "      <td>2</td>\n",
       "      <td>7</td>\n",
       "      <td>2</td>\n",
       "      <td>15</td>\n",
       "      <td>30</td>\n",
       "      <td>1</td>\n",
       "      <td>1</td>\n",
       "      <td>5</td>\n",
       "      <td>6</td>\n",
       "      <td>1</td>\n",
       "      <td>1</td>\n",
       "      <td>1</td>\n",
       "    </tr>\n",
       "  </tbody>\n",
       "</table>\n",
       "</div>"
      ],
      "text/plain": [
       "   match_id  set_id  game_id  point_id home_point away_point  \\\n",
       "0  11674074       2        7         0          0         15   \n",
       "1  11674074       2        7         1          0         30   \n",
       "2  11674074       2        7         2         15         30   \n",
       "\n",
       "   point_description  home_point_type  away_point_type  home_score  \\\n",
       "0                  2                5                1           6   \n",
       "1                  0                5                1           6   \n",
       "2                  1                1                5           6   \n",
       "\n",
       "   away_score  serving  scoring  \n",
       "0           1        1        1  \n",
       "1           1        1        1  \n",
       "2           1        1        1  "
      ]
     },
     "execution_count": 21,
     "metadata": {},
     "output_type": "execute_result"
    }
   ],
   "source": [
    "data_dir = Path(\"tennis_data_20231212/raw_point_by_point_parquet\")\n",
    "point_by_point_df = pd.concat(\n",
    "    (pd.read_parquet(parquet_file) for parquet_file in data_dir.glob('*.parquet')), ignore_index=True\n",
    ")\n",
    "point_by_point_df.head(3)"
   ]
  },
  {
   "cell_type": "code",
   "execution_count": 52,
   "metadata": {},
   "outputs": [
    {
     "name": "stdout",
     "output_type": "stream",
     "text": [
      "<class 'pandas.core.frame.DataFrame'>\n",
      "RangeIndex: 22880 entries, 0 to 22879\n",
      "Data columns (total 13 columns):\n",
      " #   Column             Non-Null Count  Dtype \n",
      "---  ------             --------------  ----- \n",
      " 0   match_id           22880 non-null  int64 \n",
      " 1   set_id             22880 non-null  int64 \n",
      " 2   game_id            22880 non-null  int64 \n",
      " 3   point_id           22880 non-null  int64 \n",
      " 4   home_point         22880 non-null  object\n",
      " 5   away_point         22880 non-null  object\n",
      " 6   point_description  22880 non-null  int64 \n",
      " 7   home_point_type    22880 non-null  int64 \n",
      " 8   away_point_type    22880 non-null  int64 \n",
      " 9   home_score         22880 non-null  int64 \n",
      " 10  away_score         22880 non-null  int64 \n",
      " 11  serving            22880 non-null  int64 \n",
      " 12  scoring            22880 non-null  int64 \n",
      "dtypes: int64(11), object(2)\n",
      "memory usage: 2.3+ MB\n"
     ]
    }
   ],
   "source": [
    "point_by_point_df.info()"
   ]
  },
  {
   "cell_type": "markdown",
   "metadata": {},
   "source": [
    "### Statistics Data Frame"
   ]
  },
  {
   "cell_type": "code",
   "execution_count": 22,
   "metadata": {},
   "outputs": [
    {
     "data": {
      "text/html": [
       "<div>\n",
       "<style scoped>\n",
       "    .dataframe tbody tr th:only-of-type {\n",
       "        vertical-align: middle;\n",
       "    }\n",
       "\n",
       "    .dataframe tbody tr th {\n",
       "        vertical-align: top;\n",
       "    }\n",
       "\n",
       "    .dataframe thead th {\n",
       "        text-align: right;\n",
       "    }\n",
       "</style>\n",
       "<table border=\"1\" class=\"dataframe\">\n",
       "  <thead>\n",
       "    <tr style=\"text-align: right;\">\n",
       "      <th></th>\n",
       "      <th>match_id</th>\n",
       "      <th>period</th>\n",
       "      <th>statistic_category_name</th>\n",
       "      <th>statistic_name</th>\n",
       "      <th>home_stat</th>\n",
       "      <th>away_stat</th>\n",
       "      <th>compare_code</th>\n",
       "      <th>statistic_type</th>\n",
       "      <th>value_type</th>\n",
       "      <th>home_value</th>\n",
       "      <th>away_value</th>\n",
       "      <th>home_total</th>\n",
       "      <th>away_total</th>\n",
       "    </tr>\n",
       "  </thead>\n",
       "  <tbody>\n",
       "    <tr>\n",
       "      <th>0</th>\n",
       "      <td>11674074</td>\n",
       "      <td>ALL</td>\n",
       "      <td>service</td>\n",
       "      <td>aces</td>\n",
       "      <td>1</td>\n",
       "      <td>2</td>\n",
       "      <td>2</td>\n",
       "      <td>positive</td>\n",
       "      <td>event</td>\n",
       "      <td>1</td>\n",
       "      <td>2</td>\n",
       "      <td>NaN</td>\n",
       "      <td>NaN</td>\n",
       "    </tr>\n",
       "    <tr>\n",
       "      <th>1</th>\n",
       "      <td>11674074</td>\n",
       "      <td>ALL</td>\n",
       "      <td>service</td>\n",
       "      <td>double_faults</td>\n",
       "      <td>1</td>\n",
       "      <td>3</td>\n",
       "      <td>2</td>\n",
       "      <td>negative</td>\n",
       "      <td>event</td>\n",
       "      <td>1</td>\n",
       "      <td>3</td>\n",
       "      <td>NaN</td>\n",
       "      <td>NaN</td>\n",
       "    </tr>\n",
       "    <tr>\n",
       "      <th>2</th>\n",
       "      <td>11674074</td>\n",
       "      <td>ALL</td>\n",
       "      <td>service</td>\n",
       "      <td>first_serve</td>\n",
       "      <td>34/52 (65%)</td>\n",
       "      <td>26/57 (46%)</td>\n",
       "      <td>1</td>\n",
       "      <td>positive</td>\n",
       "      <td>team</td>\n",
       "      <td>34</td>\n",
       "      <td>26</td>\n",
       "      <td>52.0</td>\n",
       "      <td>57.0</td>\n",
       "    </tr>\n",
       "  </tbody>\n",
       "</table>\n",
       "</div>"
      ],
      "text/plain": [
       "   match_id period statistic_category_name statistic_name    home_stat  \\\n",
       "0  11674074    ALL                 service           aces            1   \n",
       "1  11674074    ALL                 service  double_faults            1   \n",
       "2  11674074    ALL                 service    first_serve  34/52 (65%)   \n",
       "\n",
       "     away_stat  compare_code statistic_type value_type  home_value  \\\n",
       "0            2             2       positive      event           1   \n",
       "1            3             2       negative      event           1   \n",
       "2  26/57 (46%)             1       positive       team          34   \n",
       "\n",
       "   away_value  home_total  away_total  \n",
       "0           2         NaN         NaN  \n",
       "1           3         NaN         NaN  \n",
       "2          26        52.0        57.0  "
      ]
     },
     "execution_count": 22,
     "metadata": {},
     "output_type": "execute_result"
    }
   ],
   "source": [
    "data_dir = Path(\"tennis_data_20231212/raw_statistics_parquet\")\n",
    "statistics_df = pd.concat(\n",
    "    (pd.read_parquet(parquet_file) for parquet_file in data_dir.glob('*.parquet')), ignore_index=True\n",
    ")\n",
    "statistics_df.head(3)"
   ]
  },
  {
   "cell_type": "code",
   "execution_count": 54,
   "metadata": {},
   "outputs": [
    {
     "name": "stdout",
     "output_type": "stream",
     "text": [
      "<class 'pandas.core.frame.DataFrame'>\n",
      "RangeIndex: 12263 entries, 0 to 12262\n",
      "Data columns (total 13 columns):\n",
      " #   Column                   Non-Null Count  Dtype  \n",
      "---  ------                   --------------  -----  \n",
      " 0   match_id                 12263 non-null  int64  \n",
      " 1   period                   12263 non-null  object \n",
      " 2   statistic_category_name  12263 non-null  object \n",
      " 3   statistic_name           12263 non-null  object \n",
      " 4   home_stat                12263 non-null  object \n",
      " 5   away_stat                12263 non-null  object \n",
      " 6   compare_code             12263 non-null  int64  \n",
      " 7   statistic_type           12263 non-null  object \n",
      " 8   value_type               12263 non-null  object \n",
      " 9   home_value               12263 non-null  int64  \n",
      " 10  away_value               12263 non-null  int64  \n",
      " 11  home_total               4837 non-null   float64\n",
      " 12  away_total               4837 non-null   float64\n",
      "dtypes: float64(2), int64(4), object(7)\n",
      "memory usage: 1.2+ MB\n"
     ]
    }
   ],
   "source": [
    "statistics_df.info()"
   ]
  },
  {
   "cell_type": "markdown",
   "metadata": {},
   "source": [
    "## Main Analysis"
   ]
  },
  {
   "cell_type": "markdown",
   "metadata": {},
   "source": [
    "#### Q1: How many tennis players are included in the dataset?"
   ]
  },
  {
   "cell_type": "code",
   "execution_count": 23,
   "metadata": {},
   "outputs": [
    {
     "name": "stdout",
     "output_type": "stream",
     "text": [
      "There are 596 players in dataset.\n"
     ]
    }
   ],
   "source": [
    "total_players = pd.concat([home_team_df[\"player_id\"], away_team_df[\"player_id\"]]).unique().shape[0]\n",
    "print(f\"There are {total_players} players in dataset.\")"
   ]
  },
  {
   "cell_type": "markdown",
   "metadata": {},
   "source": [
    "##### Q1 Analysis\n",
    "By concatenation of home/away team plyer ids unitize them the number of plyers was calculated.\n"
   ]
  },
  {
   "cell_type": "markdown",
   "metadata": {},
   "source": [
    "#### Q2: What is the average age of the players? "
   ]
  },
  {
   "cell_type": "code",
   "execution_count": 24,
   "metadata": {},
   "outputs": [
    {
     "name": "stdout",
     "output_type": "stream",
     "text": [
      "The average year of becoming professional is: 2012\n"
     ]
    }
   ],
   "source": [
    "away_team_int = away_team_df[~away_team_df[\"turned_pro\"].isna()][\"turned_pro\"].astype(int)\n",
    "home_team_int = home_team_df[~home_team_df[\"turned_pro\"].isna()][\"turned_pro\"].astype(int)\n",
    "become_professional_mean = int(pd.concat([home_team_int, away_team_int]).mean())\n",
    "print(f\"The average year of becoming professional is: {become_professional_mean}\")"
   ]
  },
  {
   "cell_type": "markdown",
   "metadata": {},
   "source": [
    "##### Q2 Analysis\n",
    "There is no way to find age of plyers with this information, so the question has been changed to average year of becoming pro. Again by turned_pro column of home/away team and casting type to int, it could be solved.  "
   ]
  },
  {
   "cell_type": "markdown",
   "metadata": {},
   "source": [
    "#### Q3: Which player has the highest number of wins?"
   ]
  },
  {
   "cell_type": "code",
   "execution_count": 93,
   "metadata": {},
   "outputs": [
    {
     "data": {
      "text/html": [
       "<div>\n",
       "<style scoped>\n",
       "    .dataframe tbody tr th:only-of-type {\n",
       "        vertical-align: middle;\n",
       "    }\n",
       "\n",
       "    .dataframe tbody tr th {\n",
       "        vertical-align: top;\n",
       "    }\n",
       "\n",
       "    .dataframe thead th {\n",
       "        text-align: right;\n",
       "    }\n",
       "</style>\n",
       "<table border=\"1\" class=\"dataframe\">\n",
       "  <thead>\n",
       "    <tr style=\"text-align: right;\">\n",
       "      <th></th>\n",
       "      <th>full_name</th>\n",
       "      <th>number_of_wins</th>\n",
       "    </tr>\n",
       "  </thead>\n",
       "  <tbody>\n",
       "    <tr>\n",
       "      <th>0</th>\n",
       "      <td>Milushev, Plamen</td>\n",
       "      <td>3</td>\n",
       "    </tr>\n",
       "    <tr>\n",
       "      <th>1</th>\n",
       "      <td>Panaras, Adam</td>\n",
       "      <td>3</td>\n",
       "    </tr>\n",
       "    <tr>\n",
       "      <th>2</th>\n",
       "      <td>Kalina, Vit</td>\n",
       "      <td>3</td>\n",
       "    </tr>\n",
       "    <tr>\n",
       "      <th>3</th>\n",
       "      <td>Mouilleron Salvo, Manuel</td>\n",
       "      <td>2</td>\n",
       "    </tr>\n",
       "    <tr>\n",
       "      <th>4</th>\n",
       "      <td>Fery, Arthur</td>\n",
       "      <td>2</td>\n",
       "    </tr>\n",
       "  </tbody>\n",
       "</table>\n",
       "</div>"
      ],
      "text/plain": [
       "                  full_name  number_of_wins\n",
       "0          Milushev, Plamen               3\n",
       "1             Panaras, Adam               3\n",
       "2               Kalina, Vit               3\n",
       "3  Mouilleron Salvo, Manuel               2\n",
       "4              Fery, Arthur               2"
      ]
     },
     "execution_count": 93,
     "metadata": {},
     "output_type": "execute_result"
    }
   ],
   "source": [
    "home_winner = event_df[event_df[\"winner_code\"] == 1][\"match_id\"]\n",
    "away_winner = event_df[event_df[\"winner_code\"] == 2][\"match_id\"]\n",
    "\n",
    "home_winner_names = pd.merge(home_team_df[[\"match_id\", \"full_name\"]], home_winner)\n",
    "away_winner_names = pd.merge(away_team_df[[\"match_id\", \"full_name\"]], away_winner)\n",
    "\n",
    "total_winners = pd.merge(home_winner_names, away_winner_names, how=\"outer\")\n",
    "total_winners.duplicated().sum()\n",
    "\n",
    "total_winners = total_winners.groupby(\"full_name\").agg(number_of_wins = \n",
    "                                       (\"full_name\",\"count\")).sort_values(\"number_of_wins\", ascending=False).reset_index().head()\n",
    "total_winners"
   ]
  },
  {
   "cell_type": "markdown",
   "metadata": {},
   "source": [
    "##### Q3 Analysis\n",
    "At first find home and away winner codes from event df, then merge them to home_team_df and away_team_df to find their names. At the end group them by their names, count and sort them to find answer. **There are 3 players at the top of list, each of them has 3 wins.**"
   ]
  },
  {
   "cell_type": "code",
   "execution_count": 96,
   "metadata": {},
   "outputs": [
    {
     "data": {
      "image/png": "[encoded data removed]",
      "text/plain": [
       "<Figure size 640x480 with 1 Axes>"
      ]
     },
     "metadata": {},
     "output_type": "display_data"
    }
   ],
   "source": [
    "ax = plt.subplot()\n",
    "clrs = [\"gray\" if (x < max(total_winners[\"number_of_wins\"])) else \"pink\" for x in total_winners[\"number_of_wins\"]]\n",
    "ax.barh(total_winners[\"full_name\"], total_winners[\"number_of_wins\"], color=clrs)\n",
    "ax.set_title(\"Horizontal Bar Of Players With Most Wins\", loc=\"left\", color=\"gray\", fontweight=\"bold\")\n",
    "ax.set_xlabel(\"Number Of Wins\", loc=\"left\", color=\"gray\")\n",
    "ax.spines[['right', 'top']].set_visible(False)\n",
    "ax.spines[['bottom', 'left']].set_color(\"gray\")\n",
    "ax.tick_params(axis='x', colors='gray')\n",
    "ax.tick_params(axis='y', colors='gray')\n",
    "ax.xaxis.set_major_locator(MaxNLocator(integer=True))\n",
    "plt.show()"
   ]
  },
  {
   "cell_type": "markdown",
   "metadata": {},
   "source": [
    "#### Q4: What is the longest match recorded in terms of duration?"
   ]
  },
  {
   "cell_type": "code",
   "execution_count": 27,
   "metadata": {},
   "outputs": [
    {
     "data": {
      "text/html": [
       "<div>\n",
       "<style scoped>\n",
       "    .dataframe tbody tr th:only-of-type {\n",
       "        vertical-align: middle;\n",
       "    }\n",
       "\n",
       "    .dataframe tbody tr th {\n",
       "        vertical-align: top;\n",
       "    }\n",
       "\n",
       "    .dataframe thead th {\n",
       "        text-align: right;\n",
       "    }\n",
       "</style>\n",
       "<table border=\"1\" class=\"dataframe\">\n",
       "  <thead>\n",
       "    <tr style=\"text-align: right;\">\n",
       "      <th></th>\n",
       "      <th>match_id</th>\n",
       "      <th>sum_of_durations</th>\n",
       "    </tr>\n",
       "  </thead>\n",
       "  <tbody>\n",
       "    <tr>\n",
       "      <th>331</th>\n",
       "      <td>11699235</td>\n",
       "      <td>12835</td>\n",
       "    </tr>\n",
       "    <tr>\n",
       "      <th>39</th>\n",
       "      <td>11697113</td>\n",
       "      <td>11123</td>\n",
       "    </tr>\n",
       "    <tr>\n",
       "      <th>300</th>\n",
       "      <td>11699173</td>\n",
       "      <td>11060</td>\n",
       "    </tr>\n",
       "    <tr>\n",
       "      <th>36</th>\n",
       "      <td>11697108</td>\n",
       "      <td>10795</td>\n",
       "    </tr>\n",
       "    <tr>\n",
       "      <th>24</th>\n",
       "      <td>11675448</td>\n",
       "      <td>10650</td>\n",
       "    </tr>\n",
       "  </tbody>\n",
       "</table>\n",
       "</div>"
      ],
      "text/plain": [
       "     match_id  sum_of_durations\n",
       "331  11699235             12835\n",
       "39   11697113             11123\n",
       "300  11699173             11060\n",
       "36   11697108             10795\n",
       "24   11675448             10650"
      ]
     },
     "execution_count": 27,
     "metadata": {},
     "output_type": "execute_result"
    }
   ],
   "source": [
    "time_df[\"sum_of_durations\"] = (time_df[\"period_1\"].fillna(0) + time_df[\"period_2\"].fillna(0) + time_df[\"period_3\"].fillna(0) +\n",
    "                            time_df[\"period_4\"].fillna(0) + time_df[\"period_5\"].fillna(0))\n",
    "longest_matches = time_df[[\"match_id\",\"sum_of_durations\"]].sort_values(\"sum_of_durations\", ascending=False).head(5)\n",
    "\n",
    "longest_matches\n"
   ]
  },
  {
   "cell_type": "markdown",
   "metadata": {},
   "source": [
    "##### Q4 Analysis\n",
    "At first sum_of_durations column was added to time_df table that is sum of all match periods. Then it was sorted based on this new colum. **Five longest matches was shown in the horizontal bar plot, the longest matches the pink one.**"
   ]
  },
  {
   "cell_type": "code",
   "execution_count": 90,
   "metadata": {},
   "outputs": [
    {
     "data": {
      "image/png": "[encoded data removed]",
      "text/plain": [
       "<Figure size 640x480 with 1 Axes>"
      ]
     },
     "metadata": {},
     "output_type": "display_data"
    }
   ],
   "source": [
    "longest_matches_str = longest_matches\n",
    "longest_matches_str[\"match_id\"] = longest_matches_str[\"match_id\"].astype(str)\n",
    "\n",
    "ax = plt.subplot()\n",
    "clrs = [\"grey\" if (x < max(longest_matches_str[\"sum_of_durations\"])) \n",
    "        else \"pink\" for x in longest_matches_str[\"sum_of_durations\"] ]\n",
    "ax.barh(longest_matches_str[\"match_id\"], longest_matches_str[\"sum_of_durations\"] , color=clrs)\n",
    "ax.set_title(\"Horizontal Bar Of Longest Matches Duration\", loc=\"left\", color=\"gray\", fontweight=\"bold\")\n",
    "ax.set_xlabel(\"Time\", loc=\"left\", color=\"gray\")\n",
    "ax.set_ylabel(\"Match ID\", loc=\"bottom\", color=\"gray\")\n",
    "\n",
    "ax.spines[['right', 'top']].set_visible(False)\n",
    "ax.spines[['bottom', 'left']].set_color(\"gray\")\n",
    "ax.tick_params(axis='x', colors='gray')\n",
    "ax.tick_params(axis='y', colors='gray')\n",
    "\n",
    "plt.show()"
   ]
  },
  {
   "cell_type": "markdown",
   "metadata": {},
   "source": [
    "#### Q5: How many sets are typically played in a tennis match?"
   ]
  },
  {
   "cell_type": "code",
   "execution_count": 29,
   "metadata": {},
   "outputs": [
    {
     "name": "stdout",
     "output_type": "stream",
     "text": [
      "The average sets that played in each match is: 2.23\n"
     ]
    }
   ],
   "source": [
    "mean_set_per_match = home_score_df[[\n",
    "     \"period_1\", \"period_2\", \"period_3\", \"period_4\", \"period_5\"]].dropna(axis = 0, how = 'all').notnull().sum(\n",
    "         axis=1).mean().round(2)\n",
    "\n",
    "print(f\"The average sets that played in each match is: {mean_set_per_match}\")"
   ]
  },
  {
   "cell_type": "markdown",
   "metadata": {},
   "source": [
    "##### Q5 Analysis\n",
    "At first, period 1 to 5 of home_score_df(or away_score_df) was selected and rows with all nan was removed. Sum of not-nan values was calculated and at last the mean. **It shows that most of tennis matches ended in almost 2 sets**. "
   ]
  },
  {
   "cell_type": "markdown",
   "metadata": {},
   "source": [
    "#### Q6: Which country has produced the most successful tennis players?"
   ]
  },
  {
   "cell_type": "code",
   "execution_count": 33,
   "metadata": {},
   "outputs": [
    {
     "data": {
      "text/html": [
       "<div>\n",
       "<style scoped>\n",
       "    .dataframe tbody tr th:only-of-type {\n",
       "        vertical-align: middle;\n",
       "    }\n",
       "\n",
       "    .dataframe tbody tr th {\n",
       "        vertical-align: top;\n",
       "    }\n",
       "\n",
       "    .dataframe thead th {\n",
       "        text-align: right;\n",
       "    }\n",
       "</style>\n",
       "<table border=\"1\" class=\"dataframe\">\n",
       "  <thead>\n",
       "    <tr style=\"text-align: right;\">\n",
       "      <th></th>\n",
       "      <th>country</th>\n",
       "      <th>number_of_top_50_players</th>\n",
       "    </tr>\n",
       "  </thead>\n",
       "  <tbody>\n",
       "    <tr>\n",
       "      <th>0</th>\n",
       "      <td>Czech Republic</td>\n",
       "      <td>7</td>\n",
       "    </tr>\n",
       "    <tr>\n",
       "      <th>1</th>\n",
       "      <td>USA</td>\n",
       "      <td>5</td>\n",
       "    </tr>\n",
       "    <tr>\n",
       "      <th>2</th>\n",
       "      <td>Russia</td>\n",
       "      <td>5</td>\n",
       "    </tr>\n",
       "    <tr>\n",
       "      <th>3</th>\n",
       "      <td>Italy</td>\n",
       "      <td>3</td>\n",
       "    </tr>\n",
       "    <tr>\n",
       "      <th>4</th>\n",
       "      <td>Spain</td>\n",
       "      <td>3</td>\n",
       "    </tr>\n",
       "    <tr>\n",
       "      <th>5</th>\n",
       "      <td>China</td>\n",
       "      <td>3</td>\n",
       "    </tr>\n",
       "    <tr>\n",
       "      <th>6</th>\n",
       "      <td>France</td>\n",
       "      <td>3</td>\n",
       "    </tr>\n",
       "    <tr>\n",
       "      <th>7</th>\n",
       "      <td>Kazakhstan</td>\n",
       "      <td>2</td>\n",
       "    </tr>\n",
       "    <tr>\n",
       "      <th>8</th>\n",
       "      <td>Poland</td>\n",
       "      <td>2</td>\n",
       "    </tr>\n",
       "    <tr>\n",
       "      <th>9</th>\n",
       "      <td>Netherlands</td>\n",
       "      <td>2</td>\n",
       "    </tr>\n",
       "  </tbody>\n",
       "</table>\n",
       "</div>"
      ],
      "text/plain": [
       "          country  number_of_top_50_players\n",
       "0  Czech Republic                         7\n",
       "1             USA                         5\n",
       "2          Russia                         5\n",
       "3           Italy                         3\n",
       "4           Spain                         3\n",
       "5           China                         3\n",
       "6          France                         3\n",
       "7      Kazakhstan                         2\n",
       "8          Poland                         2\n",
       "9     Netherlands                         2"
      ]
     },
     "execution_count": 33,
     "metadata": {},
     "output_type": "execute_result"
    }
   ],
   "source": [
    "players_rank_country = pd.merge(home_team_df[[\"slug\",\"current_rank\", \"country\"]], away_team_df[\n",
    "    [\"slug\",\"current_rank\", \"country\"]], how=\"outer\")\n",
    "\n",
    "players_rank_country.duplicated().sum() \n",
    "players_rank_country = players_rank_country.drop_duplicates()\n",
    "players_rank_country.isna().sum() \n",
    "players_rank_country = players_rank_country.dropna().sort_values(\"current_rank\").head(50)\n",
    "\n",
    "top_50_players_country =players_rank_country.groupby(\"country\").agg(number_of_top_50_players=(\n",
    "    \"country\",\"count\")).sort_values(\"number_of_top_50_players\", ascending=False).reset_index().head(10)\n",
    "top_50_players_country"
   ]
  },
  {
   "cell_type": "markdown",
   "metadata": {},
   "source": [
    "##### Q6 Analysis\n",
    "At first name, rank and nationality of each player was extracted and data was cleaned(20 nan values and etc). Az a criteria for susses, plyers **top 50 ranked** was chosen. The most successful country was shown by pink. **It shows that most of successful countries are from western european.**"
   ]
  },
  {
   "cell_type": "code",
   "execution_count": 89,
   "metadata": {},
   "outputs": [
    {
     "data": {
      "image/png": "[encoded data removed]",
      "text/plain": [
       "<Figure size 640x480 with 1 Axes>"
      ]
     },
     "metadata": {},
     "output_type": "display_data"
    }
   ],
   "source": [
    "ax = plt.subplot()\n",
    "clrs = [\"grey\" if (x < max(top_50_players_country[\"number_of_top_50_players\"]))\n",
    "         else \"pink\" for x in top_50_players_country[\"number_of_top_50_players\"]]\n",
    "\n",
    "ax.barh(top_50_players_country[\"country\"], top_50_players_country[\"number_of_top_50_players\"] , color=clrs)\n",
    "ax.set_title(\"Horizontal Bar: Nationality Of Top 50 Players\", loc=\"left\", color=\"gray\", fontweight=\"bold\")\n",
    "ax.set_xlabel(\"Number Of Players\", loc=\"left\", color=\"gray\")\n",
    "\n",
    "ax.spines[['right', 'top']].set_visible(False)\n",
    "ax.spines[['bottom', 'left']].set_color(\"gray\")\n",
    "\n",
    "ax.tick_params(axis='x', colors='gray')\n",
    "ax.tick_params(axis='y', colors='gray')\n",
    "\n",
    "plt.show()"
   ]
  },
  {
   "cell_type": "markdown",
   "metadata": {},
   "source": [
    "#### Q7: What is the average number of aces per match?"
   ]
  },
  {
   "cell_type": "code",
   "execution_count": 37,
   "metadata": {},
   "outputs": [
    {
     "name": "stdout",
     "output_type": "stream",
     "text": [
      "The average of aces per match is: 4.01\n",
      "\n"
     ]
    },
    {
     "name": "stderr",
     "output_type": "stream",
     "text": [
      "C:\\Users\\amine\\AppData\\Local\\Temp\\ipykernel_3180\\1391347419.py:2: SettingWithCopyWarning: \n",
      "A value is trying to be set on a copy of a slice from a DataFrame.\n",
      "Try using .loc[row_indexer,col_indexer] = value instead\n",
      "\n",
      "See the caveats in the documentation: https://pandas.pydata.org/pandas-docs/stable/user_guide/indexing.html#returning-a-view-versus-a-copy\n",
      "  statistics_aces_df[\"total_aces\"] = statistics_aces_df[\"home_value\"] + statistics_aces_df[\"away_value\"]\n"
     ]
    }
   ],
   "source": [
    "statistics_aces_df = statistics_df[(statistics_df[\"period\"] == \"ALL\") & (statistics_df[\"statistic_name\"] == \"aces\")]\n",
    "statistics_aces_df[\"total_aces\"] = statistics_aces_df[\"home_value\"] + statistics_aces_df[\"away_value\"]\n",
    "mean_aces_per_match = statistics_aces_df[\"total_aces\"].mean().round(2)\n",
    "print(f\"The average of aces per match is: {mean_aces_per_match}\\n\")"
   ]
  },
  {
   "cell_type": "markdown",
   "metadata": {},
   "source": [
    "##### Q7 Analysis\n",
    "An ace is when a player hits a serve, and the returner can't get it back into court and doesn't even get a racket on the ball. At first from statistics_df aces was extracted and sum of home and away aces was calculated in a new column(total_aces), then based on that, average was found."
   ]
  },
  {
   "cell_type": "markdown",
   "metadata": {},
   "source": [
    "#### Q8: Is there a difference in the number of double faults based on gender?"
   ]
  },
  {
   "cell_type": "code",
   "execution_count": 38,
   "metadata": {},
   "outputs": [
    {
     "name": "stderr",
     "output_type": "stream",
     "text": [
      "C:\\Users\\amine\\AppData\\Local\\Temp\\ipykernel_3180\\1596813039.py:4: SettingWithCopyWarning: \n",
      "A value is trying to be set on a copy of a slice from a DataFrame.\n",
      "Try using .loc[row_indexer,col_indexer] = value instead\n",
      "\n",
      "See the caveats in the documentation: https://pandas.pydata.org/pandas-docs/stable/user_guide/indexing.html#returning-a-view-versus-a-copy\n",
      "  statistics_double_faults_df[\"total_double_faults\"] =  (statistics_double_faults_df[\"home_value\"] +\n"
     ]
    },
    {
     "data": {
      "text/html": [
       "<div>\n",
       "<style scoped>\n",
       "    .dataframe tbody tr th:only-of-type {\n",
       "        vertical-align: middle;\n",
       "    }\n",
       "\n",
       "    .dataframe tbody tr th {\n",
       "        vertical-align: top;\n",
       "    }\n",
       "\n",
       "    .dataframe thead th {\n",
       "        text-align: right;\n",
       "    }\n",
       "</style>\n",
       "<table border=\"1\" class=\"dataframe\">\n",
       "  <thead>\n",
       "    <tr style=\"text-align: right;\">\n",
       "      <th></th>\n",
       "      <th>gender</th>\n",
       "      <th>double_faults_average_per_match</th>\n",
       "    </tr>\n",
       "  </thead>\n",
       "  <tbody>\n",
       "    <tr>\n",
       "      <th>0</th>\n",
       "      <td>F</td>\n",
       "      <td>7.56</td>\n",
       "    </tr>\n",
       "    <tr>\n",
       "      <th>1</th>\n",
       "      <td>M</td>\n",
       "      <td>5.34</td>\n",
       "    </tr>\n",
       "  </tbody>\n",
       "</table>\n",
       "</div>"
      ],
      "text/plain": [
       "  gender  double_faults_average_per_match\n",
       "0      F                             7.56\n",
       "1      M                             5.34"
      ]
     },
     "execution_count": 38,
     "metadata": {},
     "output_type": "execute_result"
    }
   ],
   "source": [
    "statistics_double_faults_df = statistics_df[(statistics_df[\"period\"] == \"ALL\") & \n",
    "                                            (statistics_df[\"statistic_name\"] == \"double_faults\")]\n",
    "\n",
    "statistics_double_faults_df[\"total_double_faults\"] =  (statistics_double_faults_df[\"home_value\"] + \n",
    "                                                       statistics_double_faults_df[\"away_value\"])\n",
    "\n",
    "total_double_faults_df = statistics_double_faults_df[[\"match_id\", \"total_double_faults\"]]\n",
    "\n",
    "\n",
    "total_players = pd.merge(away_team_df[[\"match_id\",\"gender\"]], home_team_df[[\"match_id\",\"gender\"]], how=\"outer\")\n",
    "total_players.duplicated().sum()\n",
    "\n",
    "double_faults_average_per_match_based_gender = pd.merge(total_double_faults_df, total_players).groupby(\n",
    "    \"gender\").agg(double_faults_average_per_match=(\"total_double_faults\",\"mean\")).reset_index().round(2) \n",
    "double_faults_average_per_match_based_gender "
   ]
  },
  {
   "cell_type": "markdown",
   "metadata": {},
   "source": [
    "##### Q8 Analysis\n",
    "In tennis, if the serving player makes two mistakes in the same point, it is called a double fault, and they lose the point and the point is awarded to their opponent. At first  sum of home and away double faults was calculated in a new column named total_double_faults and merged with home and away team to have gender.\n",
    "\n",
    " **After grouping by gender and finding the average, it was obvious that total faults in women matches was more than men**. it's shown in relevant bar plot."
   ]
  },
  {
   "cell_type": "code",
   "execution_count": 88,
   "metadata": {},
   "outputs": [
    {
     "name": "stderr",
     "output_type": "stream",
     "text": [
      "C:\\Users\\amine\\AppData\\Local\\Temp\\ipykernel_3180\\3721116665.py:15: UserWarning: set_ticklabels() should only be used with a fixed number of ticks, i.e. after set_ticks() or using a FixedLocator.\n",
      "  ax.set_xticklabels(labels)\n"
     ]
    },
    {
     "data": {
      "image/png": "[encoded data removed]",
      "text/plain": [
       "<Figure size 640x480 with 1 Axes>"
      ]
     },
     "metadata": {},
     "output_type": "display_data"
    }
   ],
   "source": [
    "ax = plt.subplot()\n",
    "\n",
    "ax.bar(double_faults_average_per_match_based_gender[\"gender\"],\n",
    "        double_faults_average_per_match_based_gender[\"double_faults_average_per_match\"] , color=\"gray\")\n",
    "ax.set_title(\"Average Double Fault Per Match Based On Gender \", loc=\"left\", color=\"gray\", fontweight=\"bold\")\n",
    "ax.set_ylabel(\"Average Number Of Double Fault\", loc=\"bottom\", color=\"gray\")\n",
    "\n",
    "ax.spines[['right', 'top']].set_visible(False)\n",
    "ax.spines[['bottom', 'left']].set_color(\"gray\")\n",
    "\n",
    "ax.tick_params(axis='x', colors='gray')\n",
    "ax.tick_params(axis='y', colors='gray')\n",
    "\n",
    "labels = [\"Female\", \"Male\"]\n",
    "ax.set_xticklabels(labels)\n",
    "\n",
    "plt.show()"
   ]
  },
  {
   "cell_type": "markdown",
   "metadata": {},
   "source": [
    "#### Q9: Which player has won the most tournaments in a single month?"
   ]
  },
  {
   "cell_type": "code",
   "execution_count": 41,
   "metadata": {},
   "outputs": [
    {
     "data": {
      "text/html": [
       "<div>\n",
       "<style scoped>\n",
       "    .dataframe tbody tr th:only-of-type {\n",
       "        vertical-align: middle;\n",
       "    }\n",
       "\n",
       "    .dataframe tbody tr th {\n",
       "        vertical-align: top;\n",
       "    }\n",
       "\n",
       "    .dataframe thead th {\n",
       "        text-align: right;\n",
       "    }\n",
       "</style>\n",
       "<table border=\"1\" class=\"dataframe\">\n",
       "  <thead>\n",
       "    <tr style=\"text-align: right;\">\n",
       "      <th></th>\n",
       "      <th></th>\n",
       "      <th>number_of_tournaments_of_win</th>\n",
       "    </tr>\n",
       "    <tr>\n",
       "      <th>start_datetime</th>\n",
       "      <th>full_name</th>\n",
       "      <th></th>\n",
       "    </tr>\n",
       "  </thead>\n",
       "  <tbody>\n",
       "    <tr>\n",
       "      <th rowspan=\"5\" valign=\"top\">2023-10</th>\n",
       "      <th>Bartunkova, Nikola</th>\n",
       "      <td>1</td>\n",
       "    </tr>\n",
       "    <tr>\n",
       "      <th>Biolay, Sophia</th>\n",
       "      <td>1</td>\n",
       "    </tr>\n",
       "    <tr>\n",
       "      <th>Tirante, Thiago Agustin</th>\n",
       "      <td>1</td>\n",
       "    </tr>\n",
       "    <tr>\n",
       "      <th>Tabur, Clement</th>\n",
       "      <td>1</td>\n",
       "    </tr>\n",
       "    <tr>\n",
       "      <th>Shelbayh, Abedallah</th>\n",
       "      <td>1</td>\n",
       "    </tr>\n",
       "  </tbody>\n",
       "</table>\n",
       "</div>"
      ],
      "text/plain": [
       "                                        number_of_tournaments_of_win\n",
       "start_datetime full_name                                            \n",
       "2023-10        Bartunkova, Nikola                                  1\n",
       "               Biolay, Sophia                                      1\n",
       "               Tirante, Thiago Agustin                             1\n",
       "               Tabur, Clement                                      1\n",
       "               Shelbayh, Abedallah                                 1"
      ]
     },
     "execution_count": 41,
     "metadata": {},
     "output_type": "execute_result"
    }
   ],
   "source": [
    "final_matches_id = round_df[round_df[\"slug\"] == \"final\"][[\"match_id\",\"slug\"]] \n",
    "final_winners_and_dates = pd.merge(final_matches_id,event_df)[[\"match_id\",\"winner_code\",\"start_datetime\"]]\n",
    "final_winners_and_dates[\"start_datetime\"] = pd.to_datetime(\n",
    "    final_winners_and_dates[\"start_datetime\"], unit='s').dt.to_period('M')\n",
    "\n",
    "home_winner = final_winners_and_dates[final_winners_and_dates[\"winner_code\"] == 1]\n",
    "away_winner = final_winners_and_dates[final_winners_and_dates[\"winner_code\"] == 2]\n",
    "home_winner_player_names = pd.merge(home_winner[\"match_id\"], home_team_df)[[\"match_id\",\"full_name\"]]\n",
    "away_winner_player_names = pd.merge(away_winner[\"match_id\"], away_team_df)[[\"match_id\",\"full_name\"]]\n",
    "\n",
    "total_winners_name = pd.merge(pd.merge(home_winner, home_winner_player_names),\n",
    "                               pd.merge(away_winner, away_winner_player_names), how=\"outer\")\n",
    "winner_names_of_tournaments_in_month = total_winners_name.groupby([\"start_datetime\", \"full_name\"]).agg(\n",
    "    number_of_tournaments_of_win=(\"full_name\",\"count\")).sort_values(\n",
    "        \"number_of_tournaments_of_win\", ascending=False).head()\n",
    "\n",
    "winner_names_of_tournaments_in_month"
   ]
  },
  {
   "cell_type": "markdown",
   "metadata": {},
   "source": [
    "##### Q9 Analysis\n",
    "The first step is to find which match is final. The second is finding month of final, then to find name of players, it should be merged with home and away tables. The last but not the least is to group by name and date of matches.\n",
    "\n",
    "**Because there are just one month and all of players won just one tournament, it's not meaningful to draw a plot.** \n",
    "\n",
    "If there were more than one month it was possible to select max of each group (means each month) adn it was possible with find max id(idxmax()) and then df.loc[idxmax()]"
   ]
  },
  {
   "cell_type": "markdown",
   "metadata": {},
   "source": [
    "#### Q10: Is there a correlation between a player's height and their ranking?"
   ]
  },
  {
   "cell_type": "code",
   "execution_count": 44,
   "metadata": {},
   "outputs": [
    {
     "name": "stdout",
     "output_type": "stream",
     "text": [
      "Male correlation between height ang rank:  -0.11480808221589986\n",
      "Female correlation between height ang rank:  -0.05487203884108093\n"
     ]
    }
   ],
   "source": [
    "total_players = pd.merge(home_team_df[[\"slug\", \"gender\", \"height\", \"current_rank\"]],\n",
    "                          away_team_df[[\"slug\", \"gender\", \"height\", \"current_rank\"]], how=\"outer\")\n",
    "\n",
    "total_players.duplicated().sum()\n",
    "total_players = total_players.drop_duplicates().reset_index(drop=True)\n",
    "\n",
    "total_female_players = total_players[total_players[\"gender\"] == \"F\"]\n",
    "total_male_players = total_players[total_players[\"gender\"] == \"M\"]\n",
    "\n",
    "total_male_players[total_male_players.isna().any(axis=1)]\n",
    "total_female_players[total_female_players.isna().any(axis=1)]\n",
    "total_male_players[total_male_players[\"current_rank\"].isna()]\n",
    "total_male_players = total_male_players.dropna(subset=[\"current_rank\"])\n",
    "total_female_players[total_female_players[\"current_rank\"].isna()]\n",
    "total_female_players = total_female_players.dropna(subset=[\"current_rank\"])\n",
    "\n",
    "total_female_players[\"height\"] = total_female_players[\"height\"].fillna(total_female_players[\"height\"].mean().round(2))\n",
    "total_male_players[\"height\"] = total_male_players[\"height\"].fillna(total_male_players[\"height\"].mean().round(2))\n",
    "\n",
    "print(\"Male correlation between height ang rank: \",\n",
    "      total_male_players[\"height\"].corr(total_male_players[\"current_rank\"]))\n",
    "print(\"Female correlation between height ang rank: \",\n",
    "      total_female_players[\"height\"].corr(total_female_players[\"current_rank\"]))"
   ]
  },
  {
   "cell_type": "markdown",
   "metadata": {},
   "source": [
    "##### Q10 Analysis\n",
    "First of all, total player's height and their rank was extracted. After cleaning date(remove duplicated data and handling nan values), based on their gender, average height was calculated and at last the correlation between height and rank was achieved. It's obvious that the correlation should be consider based gender, because the average height of female is lower than male. \n",
    "\n",
    "**This analysis shows that in this data set there isn't any meaningful correlation(as it's shown in heat map diagram) between height and player's rank.**"
   ]
  },
  {
   "cell_type": "code",
   "execution_count": 104,
   "metadata": {},
   "outputs": [
    {
     "ename": "ValueError",
     "evalue": "[] is not a valid value for axis; supported values are 'x', 'y', 'both'",
     "output_type": "error",
     "traceback": [
      "\u001b[1;31m---------------------------------------------------------------------------\u001b[0m",
      "\u001b[1;31mValueError\u001b[0m                                Traceback (most recent call last)",
      "Cell \u001b[1;32mIn[104], line 14\u001b[0m\n\u001b[0;32m     11\u001b[0m ax2\u001b[38;5;241m.\u001b[39mtick_params(axis\u001b[38;5;241m=\u001b[39m\u001b[38;5;124m'\u001b[39m\u001b[38;5;124my\u001b[39m\u001b[38;5;124m'\u001b[39m, colors\u001b[38;5;241m=\u001b[39m\u001b[38;5;124m'\u001b[39m\u001b[38;5;124mgray\u001b[39m\u001b[38;5;124m'\u001b[39m)\n\u001b[0;32m     13\u001b[0m cax \u001b[38;5;241m=\u001b[39m ax2\u001b[38;5;241m.\u001b[39mfigure\u001b[38;5;241m.\u001b[39maxes[\u001b[38;5;241m-\u001b[39m\u001b[38;5;241m1\u001b[39m]\n\u001b[1;32m---> 14\u001b[0m \u001b[43mcax\u001b[49m\u001b[38;5;241;43m.\u001b[39;49m\u001b[43mtick_params\u001b[49m\u001b[43m(\u001b[49m\u001b[43m[\u001b[49m\u001b[43m]\u001b[49m\u001b[43m)\u001b[49m\n\u001b[0;32m     16\u001b[0m plt\u001b[38;5;241m.\u001b[39mshow()\n",
      "File \u001b[1;32mc:\\Users\\amine\\AppData\\Local\\Programs\\Python\\Python312\\Lib\\site-packages\\matplotlib\\axes\\_base.py:3382\u001b[0m, in \u001b[0;36m_AxesBase.tick_params\u001b[1;34m(self, axis, **kwargs)\u001b[0m\n\u001b[0;32m   3316\u001b[0m \u001b[38;5;28;01mdef\u001b[39;00m \u001b[38;5;21mtick_params\u001b[39m(\u001b[38;5;28mself\u001b[39m, axis\u001b[38;5;241m=\u001b[39m\u001b[38;5;124m'\u001b[39m\u001b[38;5;124mboth\u001b[39m\u001b[38;5;124m'\u001b[39m, \u001b[38;5;241m*\u001b[39m\u001b[38;5;241m*\u001b[39mkwargs):\n\u001b[0;32m   3317\u001b[0m \u001b[38;5;250m    \u001b[39m\u001b[38;5;124;03m\"\"\"\u001b[39;00m\n\u001b[0;32m   3318\u001b[0m \u001b[38;5;124;03m    Change the appearance of ticks, tick labels, and gridlines.\u001b[39;00m\n\u001b[0;32m   3319\u001b[0m \n\u001b[1;32m   (...)\u001b[0m\n\u001b[0;32m   3380\u001b[0m \n\u001b[0;32m   3381\u001b[0m \u001b[38;5;124;03m    \"\"\"\u001b[39;00m\n\u001b[1;32m-> 3382\u001b[0m     \u001b[43m_api\u001b[49m\u001b[38;5;241;43m.\u001b[39;49m\u001b[43mcheck_in_list\u001b[49m\u001b[43m(\u001b[49m\u001b[43m[\u001b[49m\u001b[38;5;124;43m'\u001b[39;49m\u001b[38;5;124;43mx\u001b[39;49m\u001b[38;5;124;43m'\u001b[39;49m\u001b[43m,\u001b[49m\u001b[43m \u001b[49m\u001b[38;5;124;43m'\u001b[39;49m\u001b[38;5;124;43my\u001b[39;49m\u001b[38;5;124;43m'\u001b[39;49m\u001b[43m,\u001b[49m\u001b[43m \u001b[49m\u001b[38;5;124;43m'\u001b[39;49m\u001b[38;5;124;43mboth\u001b[39;49m\u001b[38;5;124;43m'\u001b[39;49m\u001b[43m]\u001b[49m\u001b[43m,\u001b[49m\u001b[43m \u001b[49m\u001b[43maxis\u001b[49m\u001b[38;5;241;43m=\u001b[39;49m\u001b[43maxis\u001b[49m\u001b[43m)\u001b[49m\n\u001b[0;32m   3383\u001b[0m     \u001b[38;5;28;01mif\u001b[39;00m axis \u001b[38;5;129;01min\u001b[39;00m [\u001b[38;5;124m'\u001b[39m\u001b[38;5;124mx\u001b[39m\u001b[38;5;124m'\u001b[39m, \u001b[38;5;124m'\u001b[39m\u001b[38;5;124mboth\u001b[39m\u001b[38;5;124m'\u001b[39m]:\n\u001b[0;32m   3384\u001b[0m         xkw \u001b[38;5;241m=\u001b[39m \u001b[38;5;28mdict\u001b[39m(kwargs)\n",
      "File \u001b[1;32mc:\\Users\\amine\\AppData\\Local\\Programs\\Python\\Python312\\Lib\\site-packages\\matplotlib\\_api\\__init__.py:129\u001b[0m, in \u001b[0;36mcheck_in_list\u001b[1;34m(values, _print_supported_values, **kwargs)\u001b[0m\n\u001b[0;32m    127\u001b[0m \u001b[38;5;28;01mif\u001b[39;00m _print_supported_values:\n\u001b[0;32m    128\u001b[0m     msg \u001b[38;5;241m+\u001b[39m\u001b[38;5;241m=\u001b[39m \u001b[38;5;124mf\u001b[39m\u001b[38;5;124m\"\u001b[39m\u001b[38;5;124m; supported values are \u001b[39m\u001b[38;5;132;01m{\u001b[39;00m\u001b[38;5;124m'\u001b[39m\u001b[38;5;124m, \u001b[39m\u001b[38;5;124m'\u001b[39m\u001b[38;5;241m.\u001b[39mjoin(\u001b[38;5;28mmap\u001b[39m(\u001b[38;5;28mrepr\u001b[39m,\u001b[38;5;250m \u001b[39mvalues))\u001b[38;5;132;01m}\u001b[39;00m\u001b[38;5;124m\"\u001b[39m\n\u001b[1;32m--> 129\u001b[0m \u001b[38;5;28;01mraise\u001b[39;00m \u001b[38;5;167;01mValueError\u001b[39;00m(msg)\n",
      "\u001b[1;31mValueError\u001b[0m: [] is not a valid value for axis; supported values are 'x', 'y', 'both'"
     ]
    },
    {
     "data": {
      "image/png": "[encoded data removed]",
      "text/plain": [
       "<Figure size 800x400 with 3 Axes>"
      ]
     },
     "metadata": {},
     "output_type": "display_data"
    }
   ],
   "source": [
    "fig, (ax1, ax2) = plt.subplots(1, 2, figsize=(8, 4))\n",
    "\n",
    "ax1.set_title(\"Female Height/Rank Corr\", loc=\"left\", color=\"gray\")\n",
    "ax1 = sns.heatmap(total_male_players[[\"height\",\"current_rank\"]].corr(), annot=True, ax=ax1, cbar=False)\n",
    "ax1.tick_params(axis='x', colors='gray')\n",
    "ax1.tick_params(axis='y', colors='gray')\n",
    "\n",
    "ax2.set_title(\"Male Height/Rank Corr\", loc=\"left\", color=\"gray\")\n",
    "ax2 = sns.heatmap(total_female_players[[\"height\",\"current_rank\"]].corr(), annot=True, ax=ax2, cmap=None)\n",
    "ax2.tick_params(axis='x', colors='gray')\n",
    "ax2.tick_params(axis='y', colors='gray')\n",
    "\n",
    "cax = ax2.figure.axes[-1]\n",
    "cax.tick_params([])\n",
    "\n",
    "plt.show()"
   ]
  },
  {
   "cell_type": "markdown",
   "metadata": {},
   "source": [
    "#### Q11: What is the average duration of matches?"
   ]
  },
  {
   "cell_type": "code",
   "execution_count": 46,
   "metadata": {},
   "outputs": [
    {
     "name": "stdout",
     "output_type": "stream",
     "text": [
      "The average duration of matches is 42.05 minutes.\n"
     ]
    }
   ],
   "source": [
    "time_df[\"sum_of_durations\"] = (time_df[\"period_1\"].fillna(0) + time_df[\"period_2\"].fillna(0) + time_df[\"period_3\"].fillna(0) +\n",
    "                            time_df[\"period_4\"].fillna(0) + time_df[\"period_5\"].fillna(0))\n",
    "print(f\"The average duration of matches is {np.divide(time_df[\"sum_of_durations\"].mean(),60).round(2)} minutes.\")"
   ]
  },
  {
   "cell_type": "markdown",
   "metadata": {},
   "source": [
    "##### Q11 Analysis\n",
    "For achieving that goal, sum of periods in time_df was calculated in a new column(sum_of_durations). Based on this column the average based min minutes was achieved. **It should be considered this time is the net time and duration of a whole match may be much more than this net time.**"
   ]
  },
  {
   "cell_type": "markdown",
   "metadata": {},
   "source": [
    "#### Q12: What is the average number of games per set in men's matches compared to women's matches?"
   ]
  },
  {
   "cell_type": "code",
   "execution_count": 48,
   "metadata": {},
   "outputs": [
    {
     "name": "stdout",
     "output_type": "stream",
     "text": [
      "Average games per sets for male is: 9.12\n",
      "Average games per sets for female is: 8.79\n"
     ]
    }
   ],
   "source": [
    "match_game_num = tennis_power_df[[\"match_id\",\"set_num\"]].groupby([\"match_id\",\"set_num\"]).agg(games=(\"set_num\",\"count\"))\n",
    "total_players = pd.merge(home_team_df[[\"match_id\", \"gender\"]], away_team_df[[\"match_id\", \"gender\"]], how=\"outer\")\n",
    "total_players = pd.merge(match_game_num, total_players, on=\"match_id\")\n",
    "\n",
    "sum_of_male_games = total_players[total_players[\"gender\"] == \"M\"][\"games\"].sum()\n",
    "sum_of_male_sets = total_players[total_players[\"gender\"] == \"M\"][\"games\"].count()\n",
    "male_games_per_set = np.divide(sum_of_male_games, sum_of_male_sets).round(2)\n",
    "print(f\"Average games per sets for male is: {male_games_per_set}\")\n",
    "\n",
    "sum_of_female_games = total_players[total_players[\"gender\"] == \"F\"][\"games\"].sum()\n",
    "sum_of_female_sets = total_players[total_players[\"gender\"] == \"F\"][\"games\"].count()\n",
    "female_games_per_set = np.divide(sum_of_female_games, sum_of_female_sets).round(2)\n",
    "print(f\"Average games per sets for female is: {female_games_per_set}\")\n"
   ]
  },
  {
   "cell_type": "markdown",
   "metadata": {},
   "source": [
    "##### Q12 Analysis\n",
    "First number of games per set was found and also gender of players in each match. Then based of gender the average of games per set was calculated. **It's obvious that there isn't a major difference between them(as it was shown in diagram).**"
   ]
  },
  {
   "cell_type": "code",
   "execution_count": 85,
   "metadata": {},
   "outputs": [
    {
     "data": {
      "image/png": "[encoded data removed]",
      "text/plain": [
       "<Figure size 640x480 with 1 Axes>"
      ]
     },
     "metadata": {},
     "output_type": "display_data"
    }
   ],
   "source": [
    "ax = plt.subplot()\n",
    "y = [male_games_per_set, female_games_per_set]\n",
    "x = [\"Male\", \"Female\"]\n",
    "ax.bar(x, y, color=\"gray\")\n",
    "ax.set_title(\"Average Number Of Games Per Set Based On Gender \", loc=\"left\", color=\"gray\", fontweight=\"bold\")\n",
    "ax.set_ylabel(\"Number Of Games\", loc=\"bottom\", color=\"gray\")\n",
    "\n",
    "ax.spines[['right', 'top']].set_visible(False)\n",
    "ax.spines[['bottom', 'left']].set_color(\"gray\")\n",
    "\n",
    "ax.tick_params(axis='x', colors='gray')\n",
    "ax.tick_params(axis='y', colors='gray')\n",
    "\n",
    "plt.show()"
   ]
  },
  {
   "cell_type": "markdown",
   "metadata": {},
   "source": [
    "#### Q13: What is the distribution of left-handed versus right-handed players?"
   ]
  },
  {
   "cell_type": "code",
   "execution_count": 50,
   "metadata": {},
   "outputs": [
    {
     "data": {
      "text/html": [
       "<div>\n",
       "<style scoped>\n",
       "    .dataframe tbody tr th:only-of-type {\n",
       "        vertical-align: middle;\n",
       "    }\n",
       "\n",
       "    .dataframe tbody tr th {\n",
       "        vertical-align: top;\n",
       "    }\n",
       "\n",
       "    .dataframe thead th {\n",
       "        text-align: right;\n",
       "    }\n",
       "</style>\n",
       "<table border=\"1\" class=\"dataframe\">\n",
       "  <thead>\n",
       "    <tr style=\"text-align: right;\">\n",
       "      <th></th>\n",
       "      <th>plays</th>\n",
       "      <th>number_of_players</th>\n",
       "      <th>percent_of_total</th>\n",
       "    </tr>\n",
       "  </thead>\n",
       "  <tbody>\n",
       "    <tr>\n",
       "      <th>0</th>\n",
       "      <td>left-handed</td>\n",
       "      <td>44</td>\n",
       "      <td>13.1</td>\n",
       "    </tr>\n",
       "    <tr>\n",
       "      <th>1</th>\n",
       "      <td>right-handed</td>\n",
       "      <td>292</td>\n",
       "      <td>86.9</td>\n",
       "    </tr>\n",
       "  </tbody>\n",
       "</table>\n",
       "</div>"
      ],
      "text/plain": [
       "          plays  number_of_players  percent_of_total\n",
       "0   left-handed                 44              13.1\n",
       "1  right-handed                292              86.9"
      ]
     },
     "execution_count": 50,
     "metadata": {},
     "output_type": "execute_result"
    }
   ],
   "source": [
    "left_right_hand_df = pd.merge(home_team_df[[\"slug\",\"gender\",\"plays\"]],\n",
    "                              away_team_df[[\"slug\",\"gender\",\"plays\"]], how=\"outer\")\n",
    "\n",
    "left_right_hand_df.duplicated().sum()\n",
    "left_right_hand_df.isna().sum()\n",
    "left_right_hand_df = left_right_hand_df.dropna().reset_index(drop=True)\n",
    "\n",
    "left_right_hand_df = left_right_hand_df.groupby(\"plays\").agg(number_of_players=(\"plays\",\"count\")).reset_index()\n",
    "left_right_hand_df[\"percent_of_total\"] = np.multiply(np.divide(left_right_hand_df[\"number_of_players\"] ,\n",
    "                                                     left_right_hand_df[\"number_of_players\"].sum()).round(3), 100)\n",
    "left_right_hand_df\n"
   ]
  },
  {
   "cell_type": "markdown",
   "metadata": {},
   "source": [
    "##### Q13 Analysis\n",
    "After extracting all players right/left handed and cleaning them, data was grouped by \"plays\" column and aggregated by count. At last to achieve the percentage, a new column was added. **As it's could be seen in the society that most people are right handed, among tennis players, right handed players are the majority of tennis society, as it was show in the donate pie chart.**"
   ]
  },
  {
   "cell_type": "code",
   "execution_count": 84,
   "metadata": {},
   "outputs": [
    {
     "data": {
      "text/plain": [
       "<matplotlib.patches.Circle at 0x22364d20950>"
      ]
     },
     "execution_count": 84,
     "metadata": {},
     "output_type": "execute_result"
    },
    {
     "data": {
      "image/png": "[encoded data removed]",
      "text/plain": [
       "<Figure size 640x480 with 1 Axes>"
      ]
     },
     "metadata": {},
     "output_type": "display_data"
    }
   ],
   "source": [
    "ax = plt.subplot()\n",
    "colors = ['#66b3ff','gray']\n",
    "ax.pie(left_right_hand_df[\"percent_of_total\"], colors=colors,\n",
    "        startangle=90, labels=['Left_hand', 'Right_hand'], autopct='%1.1f%%',textprops=dict(color=\"gray\"))\n",
    "ax.set_title(\"Distribution Of Left/Right Handed\", loc=\"left\", color=\"gray\", fontweight=\"bold\")\n",
    "centre_circle = plt.Circle((0,0),0.70,fc='white')\n",
    "ax.add_artist(centre_circle)"
   ]
  },
  {
   "cell_type": "markdown",
   "metadata": {},
   "source": [
    "#### Q14: What is the most common type of surface used in tournaments?"
   ]
  },
  {
   "cell_type": "code",
   "execution_count": 52,
   "metadata": {},
   "outputs": [
    {
     "data": {
      "text/html": [
       "<div>\n",
       "<style scoped>\n",
       "    .dataframe tbody tr th:only-of-type {\n",
       "        vertical-align: middle;\n",
       "    }\n",
       "\n",
       "    .dataframe tbody tr th {\n",
       "        vertical-align: top;\n",
       "    }\n",
       "\n",
       "    .dataframe thead th {\n",
       "        text-align: right;\n",
       "    }\n",
       "</style>\n",
       "<table border=\"1\" class=\"dataframe\">\n",
       "  <thead>\n",
       "    <tr style=\"text-align: right;\">\n",
       "      <th></th>\n",
       "      <th>ground_type</th>\n",
       "      <th>most_common_ground</th>\n",
       "    </tr>\n",
       "  </thead>\n",
       "  <tbody>\n",
       "    <tr>\n",
       "      <th>0</th>\n",
       "      <td>Hardcourt outdoor</td>\n",
       "      <td>336</td>\n",
       "    </tr>\n",
       "    <tr>\n",
       "      <th>1</th>\n",
       "      <td>Red clay</td>\n",
       "      <td>323</td>\n",
       "    </tr>\n",
       "    <tr>\n",
       "      <th>2</th>\n",
       "      <td>Hardcourt indoor</td>\n",
       "      <td>84</td>\n",
       "    </tr>\n",
       "    <tr>\n",
       "      <th>3</th>\n",
       "      <td>Carpet indoor</td>\n",
       "      <td>3</td>\n",
       "    </tr>\n",
       "    <tr>\n",
       "      <th>4</th>\n",
       "      <td>Synthetic outdoor</td>\n",
       "      <td>1</td>\n",
       "    </tr>\n",
       "  </tbody>\n",
       "</table>\n",
       "</div>"
      ],
      "text/plain": [
       "         ground_type  most_common_ground\n",
       "0  Hardcourt outdoor                 336\n",
       "1           Red clay                 323\n",
       "2   Hardcourt indoor                  84\n",
       "3      Carpet indoor                   3\n",
       "4  Synthetic outdoor                   1"
      ]
     },
     "execution_count": 52,
     "metadata": {},
     "output_type": "execute_result"
    }
   ],
   "source": [
    "tournament_df[\"ground_type\"].isna().sum()\n",
    "tournament_df.dropna(subset=[\"ground_type\"], inplace=True)\n",
    "\n",
    "ground_type_tournament = tournament_df.groupby(\"ground_type\").agg(\n",
    "    most_common_ground=(\"ground_type\",\"count\")).sort_values(\"most_common_ground\",ascending=False).reset_index()\n",
    "ground_type_tournament"
   ]
  },
  {
   "cell_type": "markdown",
   "metadata": {},
   "source": [
    "##### Q14 Analysis\n",
    "After cleaning the ground type column, it was grouped and counted based on ground types. This analysis shows that the most common surface in this dataset is \"hard court outdoor\", but the month of tournaments should be considered. **For example if there were all months and all tournaments, the result may be different.**"
   ]
  },
  {
   "cell_type": "code",
   "execution_count": 83,
   "metadata": {},
   "outputs": [
    {
     "data": {
      "image/png": "[encoded data removed]",
      "text/plain": [
       "<Figure size 640x480 with 1 Axes>"
      ]
     },
     "metadata": {},
     "output_type": "display_data"
    }
   ],
   "source": [
    "ax = plt.subplot()\n",
    "clrs = [\"grey\" if (x < max(ground_type_tournament[\"most_common_ground\"]))\n",
    "         else \"pink\" for x in ground_type_tournament[\"most_common_ground\"]]\n",
    "\n",
    "ax.barh(ground_type_tournament[\"ground_type\"], ground_type_tournament[\"most_common_ground\"] , color=clrs)\n",
    "ax.set_title(\"Horizontal Bar Of Most Common Surface In Tournaments\", loc=\"left\", color=\"gray\", fontweight=\"bold\")\n",
    "ax.set_xlabel(\"Number Of Ground Types\", loc=\"left\", color=\"gray\")\n",
    "\n",
    "ax.spines[['right', 'top']].set_visible(False)\n",
    "ax.spines[['bottom', 'left']].set_color(\"gray\")\n",
    "\n",
    "ax.tick_params(axis='x', colors='gray')\n",
    "ax.tick_params(axis='y', colors='gray')\n",
    "\n",
    "plt.show()"
   ]
  },
  {
   "cell_type": "markdown",
   "metadata": {},
   "source": [
    "#### Q15: How many distinct countries are represented in the dataset?"
   ]
  },
  {
   "cell_type": "code",
   "execution_count": 57,
   "metadata": {},
   "outputs": [
    {
     "name": "stdout",
     "output_type": "stream",
     "text": [
      "There are 110 unique countries in data set.\n"
     ]
    }
   ],
   "source": [
    "tournament_country_df = tournament_df.loc[tournament_df[\"tournament_slug\"].str.len() < 20]\n",
    "tournament_country_df = tournament_country_df[\"tournament_slug\"].str.split('-').str[-1].unique()\n",
    "\n",
    "home_birth_place_country = home_team_df.loc[home_team_df[\"birthplace\"].str.len() > 10]\n",
    "home_birth_place_country = home_birth_place_country[\"birthplace\"].str.split(',').str[-1].unique()\n",
    "\n",
    "home_country = home_team_df[\"country\"].dropna().unique()\n",
    "\n",
    "away_birth_place_country = away_team_df.loc[away_team_df[\"birthplace\"].str.len() > 10]\n",
    "away_birth_place_country = away_birth_place_country[\"birthplace\"].str.split(',').str[-1].unique()\n",
    "\n",
    "away_country = away_team_df[\"country\"].dropna().unique()\n",
    "venue_country = venue_df[\"country\"].dropna().unique()\n",
    "\n",
    "all_countries_dataset = np.concatenate((tournament_country_df, home_birth_place_country, home_country,\n",
    "          away_birth_place_country, away_country, venue_country))\n",
    "all_countries_dataset =list(map(str.strip, all_countries_dataset))\n",
    "all_countries_dataset = list(map(str.lower,all_countries_dataset))\n",
    "number_of_all_countries_dataset = len(set(all_countries_dataset))\n",
    "print(f\"There are {number_of_all_countries_dataset} unique countries in data set.\")\n"
   ]
  },
  {
   "cell_type": "markdown",
   "metadata": {},
   "source": [
    "##### Q15 Analysis\n",
    "Country names are in 4 tables, home team df(birthplace and country), away team df(birthplace and country), tournament df(country) and venue df(country). After extracting all country names, unique them and cleaning, they were merged and number of distinct countries were calculated. "
   ]
  },
  {
   "cell_type": "markdown",
   "metadata": {},
   "source": [
    "#### Q16: Which player has the highest winning percentage against top 10 ranked opponents?"
   ]
  },
  {
   "cell_type": "code",
   "execution_count": 55,
   "metadata": {},
   "outputs": [
    {
     "data": {
      "text/html": [
       "<div>\n",
       "<style scoped>\n",
       "    .dataframe tbody tr th:only-of-type {\n",
       "        vertical-align: middle;\n",
       "    }\n",
       "\n",
       "    .dataframe tbody tr th {\n",
       "        vertical-align: top;\n",
       "    }\n",
       "\n",
       "    .dataframe thead th {\n",
       "        text-align: right;\n",
       "    }\n",
       "</style>\n",
       "<table border=\"1\" class=\"dataframe\">\n",
       "  <thead>\n",
       "    <tr style=\"text-align: right;\">\n",
       "      <th></th>\n",
       "      <th>number_of_wins_against_top10</th>\n",
       "    </tr>\n",
       "    <tr>\n",
       "      <th>full_name</th>\n",
       "      <th></th>\n",
       "    </tr>\n",
       "  </thead>\n",
       "  <tbody>\n",
       "    <tr>\n",
       "      <th>Kudermetova, Veronika</th>\n",
       "      <td>1</td>\n",
       "    </tr>\n",
       "  </tbody>\n",
       "</table>\n",
       "</div>"
      ],
      "text/plain": [
       "                       number_of_wins_against_top10\n",
       "full_name                                          \n",
       "Kudermetova, Veronika                             1"
      ]
     },
     "execution_count": 55,
     "metadata": {},
     "output_type": "execute_result"
    }
   ],
   "source": [
    "players_rank = pd.merge(home_team_df[[\"player_id\",\"slug\",\"current_rank\"]],\n",
    "                         away_team_df[[\"player_id\",\"slug\",\"current_rank\"]], how=\"outer\").sort_values(\"current_rank\")\n",
    "\n",
    "players_rank.duplicated().sum()\n",
    "players_rank = players_rank.drop_duplicates()\n",
    "players_rank.isna().sum()\n",
    "players_rank = players_rank.dropna().reset_index(drop=True)\n",
    "\n",
    "top_10_players = players_rank.head(10)\n",
    "\n",
    "top_10_home = pd.merge(home_team_df[[\"match_id\",\"slug\",\"player_id\" ]], top_10_players)\n",
    "top_10_away = pd.merge(away_team_df[[\"match_id\",\"slug\",\"player_id\" ]], top_10_players)\n",
    "\n",
    "top_10_home_matches = pd.merge(top_10_home, event_df[[\"match_id\", \"winner_code\"]])\n",
    "top_10_home_losses = top_10_home_matches.loc[top_10_home_matches[\"winner_code\"] == 2]\n",
    "top_10_away_matches = pd.merge(top_10_away, event_df[[\"match_id\", \"winner_code\"]])\n",
    "top_10_away_losses = top_10_away_matches.loc[top_10_away_matches[\"winner_code\"] == 1]\n",
    "\n",
    "top_10_winner_home_opponent = pd.merge(top_10_home_losses, away_team_df[[\"match_id\",\"full_name\"]], on=\"match_id\")\n",
    "top_10_winner_away_opponent = pd.merge(top_10_away_losses, home_team_df[[\"match_id\",\"full_name\"]], on=\"match_id\")\n",
    "\n",
    "number_of_wins_against_top10 = pd.merge(top_10_winner_home_opponent, top_10_winner_away_opponent,\n",
    "                                         how=\"outer\").groupby(\"full_name\").agg(number_of_wins_against_top10=(\n",
    "                                             \"full_name\",\"count\")).sort_values(\"number_of_wins_against_top10\",\n",
    "                                                                                ascending=False)\n",
    "number_of_wins_against_top10"
   ]
  },
  {
   "cell_type": "markdown",
   "metadata": {},
   "source": [
    "##### Q16 Analysis\n",
    "After finding all players ranking, cleaning them and selecting top 10 players, the first step is to find home/away top 10. The second is find top 10 losses and then next is the opponent names in those loss matches. The last step, but not the least is grouping and counting winner names of opponents. **In this data set just one player and one time can defeat top 10 ranked.**  "
   ]
  },
  {
   "cell_type": "markdown",
   "metadata": {},
   "source": [
    "#### Q17: What is the average number of breaks of serve per match?"
   ]
  },
  {
   "cell_type": "code",
   "execution_count": 59,
   "metadata": {},
   "outputs": [
    {
     "name": "stdout",
     "output_type": "stream",
     "text": [
      "Average number of breaks per match is: 7.2\n"
     ]
    }
   ],
   "source": [
    "break_occurred_match = tennis_power_df.loc[tennis_power_df[\"break_occurred\"] == True,\n",
    "                                            [\"match_id\",\"break_occurred\"]].reset_index(drop=True) # find where breaks occurred\n",
    "break_occurred_match = break_occurred_match.groupby(\"match_id\").agg(number_of_breaks=(\"break_occurred\",\"count\"))\n",
    "average_number_of_break = np.mean(break_occurred_match[\"number_of_breaks\"]).round(2)\n",
    "print(f\"Average number of breaks per match is: {average_number_of_break}\")"
   ]
  },
  {
   "cell_type": "markdown",
   "metadata": {},
   "source": [
    "##### Q17 Analysis\n",
    "First of all break occurred should be found in power_df, then based on match_id it was grouped and aggregated by count. "
   ]
  },
  {
   "cell_type": "markdown",
   "metadata": {},
   "source": [
    "## Extra Analysis"
   ]
  },
  {
   "cell_type": "markdown",
   "metadata": {},
   "source": [
    "#### E1: What are top 10 countries with most number of wins?"
   ]
  },
  {
   "cell_type": "code",
   "execution_count": 60,
   "metadata": {},
   "outputs": [
    {
     "data": {
      "text/html": [
       "<div>\n",
       "<style scoped>\n",
       "    .dataframe tbody tr th:only-of-type {\n",
       "        vertical-align: middle;\n",
       "    }\n",
       "\n",
       "    .dataframe tbody tr th {\n",
       "        vertical-align: top;\n",
       "    }\n",
       "\n",
       "    .dataframe thead th {\n",
       "        text-align: right;\n",
       "    }\n",
       "</style>\n",
       "<table border=\"1\" class=\"dataframe\">\n",
       "  <thead>\n",
       "    <tr style=\"text-align: right;\">\n",
       "      <th></th>\n",
       "      <th>country</th>\n",
       "      <th>number_of_winner_players</th>\n",
       "    </tr>\n",
       "  </thead>\n",
       "  <tbody>\n",
       "    <tr>\n",
       "      <th>0</th>\n",
       "      <td>France</td>\n",
       "      <td>55</td>\n",
       "    </tr>\n",
       "    <tr>\n",
       "      <th>1</th>\n",
       "      <td>Italy</td>\n",
       "      <td>39</td>\n",
       "    </tr>\n",
       "    <tr>\n",
       "      <th>2</th>\n",
       "      <td>Australia</td>\n",
       "      <td>30</td>\n",
       "    </tr>\n",
       "    <tr>\n",
       "      <th>3</th>\n",
       "      <td>Argentina</td>\n",
       "      <td>29</td>\n",
       "    </tr>\n",
       "    <tr>\n",
       "      <th>4</th>\n",
       "      <td>USA</td>\n",
       "      <td>27</td>\n",
       "    </tr>\n",
       "    <tr>\n",
       "      <th>5</th>\n",
       "      <td>Spain</td>\n",
       "      <td>26</td>\n",
       "    </tr>\n",
       "    <tr>\n",
       "      <th>6</th>\n",
       "      <td>Brazil</td>\n",
       "      <td>24</td>\n",
       "    </tr>\n",
       "    <tr>\n",
       "      <th>7</th>\n",
       "      <td>Germany</td>\n",
       "      <td>23</td>\n",
       "    </tr>\n",
       "    <tr>\n",
       "      <th>8</th>\n",
       "      <td>United Kingdom</td>\n",
       "      <td>23</td>\n",
       "    </tr>\n",
       "    <tr>\n",
       "      <th>9</th>\n",
       "      <td>Russia</td>\n",
       "      <td>21</td>\n",
       "    </tr>\n",
       "  </tbody>\n",
       "</table>\n",
       "</div>"
      ],
      "text/plain": [
       "          country  number_of_winner_players\n",
       "0          France                        55\n",
       "1           Italy                        39\n",
       "2       Australia                        30\n",
       "3       Argentina                        29\n",
       "4             USA                        27\n",
       "5           Spain                        26\n",
       "6          Brazil                        24\n",
       "7         Germany                        23\n",
       "8  United Kingdom                        23\n",
       "9          Russia                        21"
      ]
     },
     "execution_count": 60,
     "metadata": {},
     "output_type": "execute_result"
    }
   ],
   "source": [
    "home_winner = event_df[event_df[\"winner_code\"] == 1][\"match_id\"]\n",
    "away_winner = event_df[event_df[\"winner_code\"] == 2][\"match_id\"]\n",
    "\n",
    "home_winner_names = pd.merge(home_team_df[[\"match_id\", \"full_name\", \"country\"]], home_winner)\n",
    "away_winner_names = pd.merge(away_team_df[[\"match_id\", \"full_name\", \"country\"]], away_winner)\n",
    "\n",
    "total_winners = pd.merge(home_winner_names, away_winner_names, how=\"outer\")\n",
    "\n",
    "total_winners.duplicated().sum()\n",
    "total_winners.isna().sum()\n",
    "\n",
    "total_winners = total_winners.groupby(\"country\").agg(number_of_winner_players=(\"country\",\"count\")).sort_values(\n",
    "    \"number_of_winner_players\", ascending=False).reset_index().head(10)\n",
    "total_winners"
   ]
  },
  {
   "cell_type": "markdown",
   "metadata": {},
   "source": [
    "##### E1 Analysis\n",
    "After extracting winners from event table and merge them to home/away table to find winners nationality, it was grouped by country and counted. **Obviously tennis is sport of wealth people and wealth countries are most successful in the tennis rank.** As it was shown in diagram France, Italy and Australia are the top 3 countries."
   ]
  },
  {
   "cell_type": "code",
   "execution_count": 82,
   "metadata": {},
   "outputs": [
    {
     "data": {
      "image/png": "[encoded data removed]",
      "text/plain": [
       "<Figure size 640x480 with 1 Axes>"
      ]
     },
     "metadata": {},
     "output_type": "display_data"
    }
   ],
   "source": [
    "ax = plt.subplot()\n",
    "\n",
    "clrs = [\"grey\" if (x < max(total_winners[\"number_of_winner_players\"]))\n",
    "        else \"pink\" for x in total_winners[\"number_of_winner_players\"]]\n",
    "\n",
    "ax.barh(total_winners[\"country\"], total_winners[\"number_of_winner_players\"] , color=clrs)\n",
    "ax.set_title(\"Horizontal Bar: Top 10 Country Based On Wins\", loc=\"left\", color=\"gray\", fontweight=\"bold\")\n",
    "ax.set_xlabel(\"Number Of Wins\", loc=\"left\", color=\"gray\")\n",
    "\n",
    "ax.spines[['right', 'top']].set_visible(False)\n",
    "ax.spines[['bottom', 'left']].set_color(\"gray\")\n",
    "\n",
    "ax.tick_params(axis='x', colors='gray')\n",
    "ax.tick_params(axis='y', colors='gray')"
   ]
  },
  {
   "cell_type": "markdown",
   "metadata": {},
   "source": [
    "#### E2: In which month most matches ocurred?"
   ]
  },
  {
   "cell_type": "code",
   "execution_count": 63,
   "metadata": {},
   "outputs": [
    {
     "name": "stderr",
     "output_type": "stream",
     "text": [
      "C:\\Users\\amine\\AppData\\Local\\Temp\\ipykernel_3180\\3437942856.py:2: SettingWithCopyWarning: \n",
      "A value is trying to be set on a copy of a slice from a DataFrame.\n",
      "Try using .loc[row_indexer,col_indexer] = value instead\n",
      "\n",
      "See the caveats in the documentation: https://pandas.pydata.org/pandas-docs/stable/user_guide/indexing.html#returning-a-view-versus-a-copy\n",
      "  matches_date[\"start_datetime\"] = pd.to_datetime(matches_date[\"start_datetime\"], unit='s').dt.to_period('M')\n"
     ]
    },
    {
     "data": {
      "text/html": [
       "<div>\n",
       "<style scoped>\n",
       "    .dataframe tbody tr th:only-of-type {\n",
       "        vertical-align: middle;\n",
       "    }\n",
       "\n",
       "    .dataframe tbody tr th {\n",
       "        vertical-align: top;\n",
       "    }\n",
       "\n",
       "    .dataframe thead th {\n",
       "        text-align: right;\n",
       "    }\n",
       "</style>\n",
       "<table border=\"1\" class=\"dataframe\">\n",
       "  <thead>\n",
       "    <tr style=\"text-align: right;\">\n",
       "      <th></th>\n",
       "      <th>start_datetime</th>\n",
       "      <th>number_of_matches</th>\n",
       "    </tr>\n",
       "  </thead>\n",
       "  <tbody>\n",
       "    <tr>\n",
       "      <th>0</th>\n",
       "      <td>2023-10</td>\n",
       "      <td>742</td>\n",
       "    </tr>\n",
       "    <tr>\n",
       "      <th>1</th>\n",
       "      <td>2023-09</td>\n",
       "      <td>22</td>\n",
       "    </tr>\n",
       "  </tbody>\n",
       "</table>\n",
       "</div>"
      ],
      "text/plain": [
       "  start_datetime  number_of_matches\n",
       "0        2023-10                742\n",
       "1        2023-09                 22"
      ]
     },
     "execution_count": 63,
     "metadata": {},
     "output_type": "execute_result"
    }
   ],
   "source": [
    "matches_date = event_df[[\"match_id\",\"start_datetime\"]]\n",
    "matches_date[\"start_datetime\"] = pd.to_datetime(matches_date[\"start_datetime\"], unit='s').dt.to_period('M')\n",
    "matches_date_number = matches_date.groupby(\"start_datetime\").agg(\n",
    "    number_of_matches=(\"match_id\",\"count\")).sort_values(\"number_of_matches\",ascending=False).reset_index()\n",
    "matches_date_number"
   ]
  },
  {
   "cell_type": "markdown",
   "metadata": {},
   "source": [
    "##### E2 Analysis\n",
    "When time of matches were extracted, it was grouped by time and number of countries were counted. **In this data set the result is not really meaningful but in a whole year it shows the season of matches means peak number of them.**\n",
    "\n",
    "The obvious difference between month 9 and 10 is because of the time of data set collecting. "
   ]
  },
  {
   "cell_type": "code",
   "execution_count": 81,
   "metadata": {},
   "outputs": [
    {
     "data": {
      "image/png": "[encoded data removed]",
      "text/plain": [
       "<Figure size 640x480 with 1 Axes>"
      ]
     },
     "metadata": {},
     "output_type": "display_data"
    }
   ],
   "source": [
    "matches_date_number_str = matches_date_number\n",
    "matches_date_number_str[\"start_datetime\"] = matches_date_number_str[\"start_datetime\"].astype(str)\n",
    "ax = plt.subplot()\n",
    "\n",
    "ax.bar(matches_date_number_str[\"start_datetime\"],\n",
    "        matches_date_number_str[\"number_of_matches\"] , color=\"gray\")\n",
    "ax.set_title(\"Number Of Matches In Each Months\", loc=\"left\", color=\"gray\", fontweight=\"bold\")\n",
    "ax.set_ylabel(\"Number Of Matches\", loc=\"bottom\", color=\"gray\")\n",
    "\n",
    "ax.spines[['right', 'top']].set_visible(False)\n",
    "ax.spines[['bottom', 'left']].set_color(\"gray\")\n",
    "\n",
    "ax.tick_params(axis='x', colors='gray')\n",
    "ax.tick_params(axis='y', colors='gray')\n",
    "\n",
    "plt.show()"
   ]
  },
  {
   "cell_type": "markdown",
   "metadata": {},
   "source": [
    "#### E3: The most championships are for which countries? "
   ]
  },
  {
   "cell_type": "code",
   "execution_count": 65,
   "metadata": {},
   "outputs": [
    {
     "data": {
      "text/html": [
       "<div>\n",
       "<style scoped>\n",
       "    .dataframe tbody tr th:only-of-type {\n",
       "        vertical-align: middle;\n",
       "    }\n",
       "\n",
       "    .dataframe tbody tr th {\n",
       "        vertical-align: top;\n",
       "    }\n",
       "\n",
       "    .dataframe thead th {\n",
       "        text-align: right;\n",
       "    }\n",
       "</style>\n",
       "<table border=\"1\" class=\"dataframe\">\n",
       "  <thead>\n",
       "    <tr style=\"text-align: right;\">\n",
       "      <th></th>\n",
       "      <th>country</th>\n",
       "      <th>number_of_championships</th>\n",
       "    </tr>\n",
       "  </thead>\n",
       "  <tbody>\n",
       "    <tr>\n",
       "      <th>0</th>\n",
       "      <td>France</td>\n",
       "      <td>4</td>\n",
       "    </tr>\n",
       "    <tr>\n",
       "      <th>1</th>\n",
       "      <td>Czech Republic</td>\n",
       "      <td>3</td>\n",
       "    </tr>\n",
       "    <tr>\n",
       "      <th>2</th>\n",
       "      <td>Spain</td>\n",
       "      <td>2</td>\n",
       "    </tr>\n",
       "    <tr>\n",
       "      <th>3</th>\n",
       "      <td>Argentina</td>\n",
       "      <td>1</td>\n",
       "    </tr>\n",
       "    <tr>\n",
       "      <th>4</th>\n",
       "      <td>Canada</td>\n",
       "      <td>1</td>\n",
       "    </tr>\n",
       "  </tbody>\n",
       "</table>\n",
       "</div>"
      ],
      "text/plain": [
       "          country  number_of_championships\n",
       "0          France                        4\n",
       "1  Czech Republic                        3\n",
       "2           Spain                        2\n",
       "3       Argentina                        1\n",
       "4          Canada                        1"
      ]
     },
     "execution_count": 65,
     "metadata": {},
     "output_type": "execute_result"
    }
   ],
   "source": [
    "final_matches_ids = round_df[round_df[\"slug\"] == \"final\"][\"match_id\"]\n",
    "final_winners = pd.merge(final_matches_ids,event_df)[[\"match_id\",\"winner_code\"]]\n",
    "\n",
    "home_winners = final_winners[final_winners[\"winner_code\"] == 1]\n",
    "away_winners = final_winners[final_winners[\"winner_code\"] == 2]\n",
    "\n",
    "home_winner_country = pd.merge(home_winners[\"match_id\"], home_team_df)[[\"match_id\",\"country\"]]\n",
    "away_winner_country = pd.merge(away_winners[\"match_id\"], away_team_df)[[\"match_id\",\"country\"]]\n",
    "\n",
    "most_championships = pd.merge(home_winner_country, away_winner_country, how=\"outer\").groupby(\"country\").agg(\n",
    "    number_of_championships=(\"country\",\"count\")).sort_values(\n",
    "        \"number_of_championships\", ascending=False).reset_index().head()\n",
    "most_championships"
   ]
  },
  {
   "cell_type": "markdown",
   "metadata": {},
   "source": [
    "##### E3 Analysis\n",
    "First step is extracting final matches then final winner based home/away tables then find the nationality of winners. At last grouping by countries and counting them. **Exactly like pervious analysis again wealthy countries were appeared in top of the list.**"
   ]
  },
  {
   "cell_type": "code",
   "execution_count": 80,
   "metadata": {},
   "outputs": [
    {
     "data": {
      "image/png": "[encoded data removed]",
      "text/plain": [
       "<Figure size 640x480 with 1 Axes>"
      ]
     },
     "metadata": {},
     "output_type": "display_data"
    }
   ],
   "source": [
    "ax = plt.subplot()\n",
    "\n",
    "clrs = [\"grey\" if (x < max(most_championships[\"number_of_championships\"]))\n",
    "        else \"pink\" for x in most_championships[\"number_of_championships\"]]\n",
    "\n",
    "ax.barh(most_championships[\"country\"], most_championships[\"number_of_championships\"] , color=clrs)\n",
    "ax.set_title(\"Horizontal Bar: Countries WithThe Most Championships\", loc=\"left\", color=\"gray\", fontweight=\"bold\")\n",
    "ax.set_xlabel(\"Number Of Championships\", loc=\"left\", color=\"gray\")\n",
    "\n",
    "ax.spines[['right', 'top']].set_visible(False)\n",
    "ax.spines[['bottom', 'left']].set_color(\"gray\")\n",
    "\n",
    "ax.tick_params(axis='x', colors='gray')\n",
    "ax.tick_params(axis='y', colors='gray')\n",
    "\n",
    "ax.xaxis.set_major_locator(MaxNLocator(integer=True))"
   ]
  },
  {
   "cell_type": "markdown",
   "metadata": {},
   "source": [
    "#### E4: What percentage of the predictions were correct?"
   ]
  },
  {
   "cell_type": "code",
   "execution_count": 68,
   "metadata": {},
   "outputs": [
    {
     "name": "stdout",
     "output_type": "stream",
     "text": [
      "The correct percentage of predictions is 67.37 %\n"
     ]
    }
   ],
   "source": [
    "event_vote_df = pd.merge(vote_df, event_df[[\"match_id\",\"winner_code\"]])\n",
    "\n",
    "event_vote_df.isna().sum()\n",
    "event_vote_df = event_vote_df.dropna().reset_index(drop=True)\n",
    "\n",
    "event_vote_df[\"vote_prediction\"] = np.where(event_vote_df[\"home_vote\"] > event_vote_df[\"away_vote\"], 1, 2)\n",
    "total_number_of_matches = event_vote_df[\"match_id\"].count()\n",
    "total_number_of_correct_prediction = event_vote_df.loc[\n",
    "    event_vote_df[\"winner_code\"] == event_vote_df[\"vote_prediction\"]][\"match_id\"].count()\n",
    "\n",
    "percentage_of_correct_predictions = np.multiply(np.divide(\n",
    "    total_number_of_correct_prediction, total_number_of_matches), 100).round(2)\n",
    "\n",
    "print(f\"The correct percentage of predictions is {percentage_of_correct_predictions} %\")\n"
   ]
  },
  {
   "cell_type": "markdown",
   "metadata": {},
   "source": [
    "##### E4 Analysis\n",
    "For this analysis the fist step is merging vote and event to find winner code for each matches, then based on a condition vote prediction column was created, 1 for correct, 2 for incorrect predictions. Next step is find total number of matches and total number of correct predictions. At the end step the percentage of correct predictions was calculated. **It shows that more than half matches were predicted correctly.**"
   ]
  },
  {
   "cell_type": "markdown",
   "metadata": {},
   "source": [
    "#### E5: Which country has the most presence in the finals?"
   ]
  },
  {
   "cell_type": "code",
   "execution_count": 69,
   "metadata": {},
   "outputs": [
    {
     "data": {
      "text/html": [
       "<div>\n",
       "<style scoped>\n",
       "    .dataframe tbody tr th:only-of-type {\n",
       "        vertical-align: middle;\n",
       "    }\n",
       "\n",
       "    .dataframe tbody tr th {\n",
       "        vertical-align: top;\n",
       "    }\n",
       "\n",
       "    .dataframe thead th {\n",
       "        text-align: right;\n",
       "    }\n",
       "</style>\n",
       "<table border=\"1\" class=\"dataframe\">\n",
       "  <thead>\n",
       "    <tr style=\"text-align: right;\">\n",
       "      <th></th>\n",
       "      <th>country</th>\n",
       "      <th>number_of_presence_in_final</th>\n",
       "    </tr>\n",
       "  </thead>\n",
       "  <tbody>\n",
       "    <tr>\n",
       "      <th>0</th>\n",
       "      <td>France</td>\n",
       "      <td>4</td>\n",
       "    </tr>\n",
       "    <tr>\n",
       "      <th>1</th>\n",
       "      <td>USA</td>\n",
       "      <td>3</td>\n",
       "    </tr>\n",
       "    <tr>\n",
       "      <th>2</th>\n",
       "      <td>United Kingdom</td>\n",
       "      <td>3</td>\n",
       "    </tr>\n",
       "    <tr>\n",
       "      <th>3</th>\n",
       "      <td>Argentina</td>\n",
       "      <td>2</td>\n",
       "    </tr>\n",
       "    <tr>\n",
       "      <th>4</th>\n",
       "      <td>Croatia</td>\n",
       "      <td>2</td>\n",
       "    </tr>\n",
       "  </tbody>\n",
       "</table>\n",
       "</div>"
      ],
      "text/plain": [
       "          country  number_of_presence_in_final\n",
       "0          France                            4\n",
       "1             USA                            3\n",
       "2  United Kingdom                            3\n",
       "3       Argentina                            2\n",
       "4         Croatia                            2"
      ]
     },
     "execution_count": 69,
     "metadata": {},
     "output_type": "execute_result"
    }
   ],
   "source": [
    "\n",
    "final_match_ids = round_df[round_df[\"slug\"] == \"final\"][\"match_id\"]\n",
    "\n",
    "home_countries_in_final = pd.merge(final_match_ids, home_team_df)[\"country\"]\n",
    "away_countries_in_final = pd.merge(final_match_ids, away_team_df)[\"country\"]\n",
    "\n",
    "most_presence_in_final = pd.merge(home_countries_in_final, away_countries_in_final, how=\"outer\").groupby(\"country\").agg(\n",
    "    number_of_presence_in_final=(\"country\",\"count\")).sort_values(\n",
    "        \"number_of_presence_in_final\", ascending=False).reset_index().head()\n",
    "most_presence_in_final                                                                                                                    "
   ]
  },
  {
   "cell_type": "markdown",
   "metadata": {},
   "source": [
    "##### E5 Analysis\n",
    "First final match ids were found and relevant countries after merging with home/away tables were extracted and based on countries and number of repetitions were grouped. **This analysis next to E3 analysis shows that France presence four times in final and in all of them championships was achieved to France but the second rank of presence in final is for USA that have just one championship.**"
   ]
  },
  {
   "cell_type": "code",
   "execution_count": 79,
   "metadata": {},
   "outputs": [
    {
     "data": {
      "image/png": "[encoded data removed]",
      "text/plain": [
       "<Figure size 640x480 with 1 Axes>"
      ]
     },
     "metadata": {},
     "output_type": "display_data"
    }
   ],
   "source": [
    "ax = plt.subplot()\n",
    "\n",
    "clrs = [\"grey\" if (x < max(most_presence_in_final[\"number_of_presence_in_final\"]))\n",
    "        else \"pink\" for x in most_presence_in_final[\"number_of_presence_in_final\"]]\n",
    "\n",
    "ax.barh(most_presence_in_final[\"country\"], most_presence_in_final[\"number_of_presence_in_final\"] , color=clrs)\n",
    "ax.set_title(\"Horizontal Bar: Countries With Most Presence In Final\", loc=\"left\", color=\"gray\", fontweight=\"bold\")\n",
    "ax.set_xlabel(\"Number Of Presence In Final\", loc=\"left\", color=\"gray\")\n",
    "\n",
    "ax.spines[['right', 'top']].set_visible(False)\n",
    "ax.spines[['bottom', 'left']].set_color(\"gray\")\n",
    "\n",
    "ax.tick_params(axis='x', colors='gray')\n",
    "ax.tick_params(axis='y', colors='gray')\n",
    "\n",
    "ax.xaxis.set_major_locator(MaxNLocator(integer=True))"
   ]
  },
  {
   "cell_type": "markdown",
   "metadata": {},
   "source": [
    "#### Q6: Does the ranking of the players have an effect on the result?"
   ]
  },
  {
   "cell_type": "code",
   "execution_count": 71,
   "metadata": {},
   "outputs": [
    {
     "name": "stdout",
     "output_type": "stream",
     "text": [
      "In 66.8 % of matches, the result ocurred based on players rank.\n"
     ]
    }
   ],
   "source": [
    "home_rank = home_team_df[[\"match_id\",\"current_rank\"]]\n",
    "away_rank = away_team_df[[\"match_id\",\"current_rank\"]]\n",
    "merge_home_event = pd.merge(event_df[[\"match_id\",\"winner_code\"]], home_rank, how=\"outer\").rename(\n",
    "    {\"current_rank\":\"home_rank\"}, axis=\"columns\")\n",
    "\n",
    "total_winner_ranks = pd.merge(merge_home_event, away_rank, how=\"outer\").rename(\n",
    "    {\"current_rank\":\"away_rank\"}, axis=\"columns\")\n",
    "\n",
    "total_winner_ranks.duplicated().sum() \n",
    "total_winner_ranks.isna().sum()  \n",
    "total_winner_ranks = total_winner_ranks.dropna().reset_index(drop=True)\n",
    "\n",
    "total_winner_ranks[\"upper_rank\"] = np.where(total_winner_ranks[\"home_rank\"] > total_winner_ranks[\"away_rank\"], 2, 1)\n",
    "number_of_winner_based_their_rank = np.where(\n",
    "    total_winner_ranks[\"winner_code\"] == total_winner_ranks[\"upper_rank\"])[0].shape[0]\n",
    "total_winner = total_winner_ranks.shape[0]\n",
    "winners_based_rank_percentage = np.multiply(np.divide(number_of_winner_based_their_rank, total_winner), 100).round(2)\n",
    "print(f\"In {winners_based_rank_percentage} % of matches, the result ocurred based on players rank.\")"
   ]
  },
  {
   "cell_type": "markdown",
   "metadata": {},
   "source": [
    "##### E6 Analysis\n",
    "For having players rank, home/away team df should be merged by event to have rank and winner codes, after cleaning data a upper_rank column was added to total winner tables, those rows where winner code is equal to upper rank are the answer.\n",
    "\n",
    " **This shows that in more than 66 percent of matches players with upper ranks are the winners**, but it's not majority of matches and there are a good chance to players with lower rank to win a match."
   ]
  },
  {
   "cell_type": "markdown",
   "metadata": {},
   "source": [
    "#### E7: Which counties held most tournaments?"
   ]
  },
  {
   "cell_type": "code",
   "execution_count": 72,
   "metadata": {},
   "outputs": [
    {
     "data": {
      "text/html": [
       "<div>\n",
       "<style scoped>\n",
       "    .dataframe tbody tr th:only-of-type {\n",
       "        vertical-align: middle;\n",
       "    }\n",
       "\n",
       "    .dataframe tbody tr th {\n",
       "        vertical-align: top;\n",
       "    }\n",
       "\n",
       "    .dataframe thead th {\n",
       "        text-align: right;\n",
       "    }\n",
       "</style>\n",
       "<table border=\"1\" class=\"dataframe\">\n",
       "  <thead>\n",
       "    <tr style=\"text-align: right;\">\n",
       "      <th></th>\n",
       "      <th>tournament_slug</th>\n",
       "      <th>number_of_tournament</th>\n",
       "    </tr>\n",
       "  </thead>\n",
       "  <tbody>\n",
       "    <tr>\n",
       "      <th>0</th>\n",
       "      <td>china</td>\n",
       "      <td>36</td>\n",
       "    </tr>\n",
       "    <tr>\n",
       "      <th>1</th>\n",
       "      <td>kazakhstan</td>\n",
       "      <td>7</td>\n",
       "    </tr>\n",
       "    <tr>\n",
       "      <th>2</th>\n",
       "      <td>colombia</td>\n",
       "      <td>3</td>\n",
       "    </tr>\n",
       "    <tr>\n",
       "      <th>3</th>\n",
       "      <td>france</td>\n",
       "      <td>3</td>\n",
       "    </tr>\n",
       "    <tr>\n",
       "      <th>4</th>\n",
       "      <td>usa</td>\n",
       "      <td>3</td>\n",
       "    </tr>\n",
       "    <tr>\n",
       "      <th>5</th>\n",
       "      <td>portugal</td>\n",
       "      <td>2</td>\n",
       "    </tr>\n",
       "    <tr>\n",
       "      <th>6</th>\n",
       "      <td>spain</td>\n",
       "      <td>2</td>\n",
       "    </tr>\n",
       "    <tr>\n",
       "      <th>7</th>\n",
       "      <td>japan</td>\n",
       "      <td>1</td>\n",
       "    </tr>\n",
       "  </tbody>\n",
       "</table>\n",
       "</div>"
      ],
      "text/plain": [
       "  tournament_slug  number_of_tournament\n",
       "0           china                    36\n",
       "1      kazakhstan                     7\n",
       "2        colombia                     3\n",
       "3          france                     3\n",
       "4             usa                     3\n",
       "5        portugal                     2\n",
       "6           spain                     2\n",
       "7           japan                     1"
      ]
     },
     "execution_count": 72,
     "metadata": {},
     "output_type": "execute_result"
    }
   ],
   "source": [
    "tournament_countries_df = tournament_df.loc[tournament_df[\"tournament_slug\"].str.len() < 20]\n",
    "tournament_countries_df = tournament_countries_df[\"tournament_slug\"].str.split('-').str[-1]\n",
    "\n",
    "tournament_countries_df = pd.DataFrame(tournament_countries_df).reset_index(drop=True)\n",
    "\n",
    "most_held_tournament_countries_df = tournament_countries_df.groupby(\"tournament_slug\").agg(\n",
    "    number_of_tournament=(\"tournament_slug\",\"count\")).sort_values(\n",
    "        \"number_of_tournament\", ascending=False).reset_index()\n",
    "most_held_tournament_countries_df"
   ]
  },
  {
   "cell_type": "markdown",
   "metadata": {},
   "source": [
    "##### E7 Analysis\n",
    "The first step is to find tournament locations, turns it to data frame and at last step grouping by country names and counting them. **The very intreating point in this analysis is placing three developing countries in top of list. It shows their effort to be professional in next decades.**"
   ]
  },
  {
   "cell_type": "code",
   "execution_count": 78,
   "metadata": {},
   "outputs": [
    {
     "data": {
      "image/png": "[encoded data removed]",
      "text/plain": [
       "<Figure size 640x480 with 1 Axes>"
      ]
     },
     "metadata": {},
     "output_type": "display_data"
    }
   ],
   "source": [
    "ax = plt.subplot()\n",
    "\n",
    "clrs = [\"grey\" if (x < max(most_held_tournament_countries_df[\"number_of_tournament\"]))\n",
    "        else \"pink\" for x in most_held_tournament_countries_df[\"number_of_tournament\"]]\n",
    "\n",
    "ax.barh(most_held_tournament_countries_df[\"tournament_slug\"],\n",
    "         most_held_tournament_countries_df[\"number_of_tournament\"] , color=clrs)\n",
    "ax.set_title(\"Horizontal Bar: Countries With Most Holding Tournaments\", loc=\"left\", color=\"gray\", fontweight=\"bold\")\n",
    "ax.set_xlabel(\"Number Of Tournaments\", loc=\"left\", color=\"gray\")\n",
    "\n",
    "ax.spines[['right', 'top']].set_visible(False)\n",
    "ax.spines[['bottom', 'left']].set_color(\"gray\")\n",
    "\n",
    "ax.tick_params(axis='x', colors='gray')\n",
    "ax.tick_params(axis='y', colors='gray')"
   ]
  }
 ],
 "metadata": {
  "kernelspec": {
   "display_name": "Python 3",
   "language": "python",
   "name": "python3"
  },
  "language_info": {
   "codemirror_mode": {
    "name": "ipython",
    "version": 3
   },
   "file_extension": ".py",
   "mimetype": "text/x-python",
   "name": "python",
   "nbconvert_exporter": "python",
   "pygments_lexer": "ipython3",
   "version": "3.12.0"
  }
 },
 "nbformat": 4,
 "nbformat_minor": 2
}
